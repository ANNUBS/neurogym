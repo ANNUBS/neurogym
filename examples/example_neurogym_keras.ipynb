{
  "nbformat": 4,
  "nbformat_minor": 0,
  "metadata": {
    "accelerator": "GPU",
    "colab": {
      "name": "Copy of example_NeuroGym_keras.ipynb",
      "provenance": [],
      "collapsed_sections": []
    },
    "hide_input": false,
    "kernelspec": {
      "display_name": "Python 3",
      "language": "python",
      "name": "python3"
    },
    "language_info": {
      "codemirror_mode": {
        "name": "ipython",
        "version": 3
      },
      "file_extension": ".py",
      "mimetype": "text/x-python",
      "name": "python",
      "nbconvert_exporter": "python",
      "pygments_lexer": "ipython3",
      "version": "3.7.4"
    },
    "toc": {
      "base_numbering": 1,
      "nav_menu": {},
      "number_sections": true,
      "sideBar": true,
      "skip_h1_title": false,
      "title_cell": "Table of Contents",
      "title_sidebar": "Contents",
      "toc_cell": false,
      "toc_position": {},
      "toc_section_display": true,
      "toc_window_display": false
    },
    "varInspector": {
      "cols": {
        "lenName": 16,
        "lenType": 16,
        "lenVar": 40
      },
      "kernels_config": {
        "python": {
          "delete_cmd_postfix": "",
          "delete_cmd_prefix": "del ",
          "library": "var_list.py",
          "varRefreshCmd": "print(var_dic_list())"
        },
        "r": {
          "delete_cmd_postfix": ") ",
          "delete_cmd_prefix": "rm(",
          "library": "var_list.r",
          "varRefreshCmd": "cat(var_dic_list()) "
        }
      },
      "types_to_exclude": [
        "module",
        "function",
        "builtin_function_or_method",
        "instance",
        "_Feature"
      ],
      "window_display": false
    }
  },
  "cells": [
    {
      "cell_type": "markdown",
      "metadata": {
        "colab_type": "text",
        "id": "4zW6CU8F69Zp"
      },
      "source": [
        "# NeuroGym"
      ]
    },
    {
      "cell_type": "markdown",
      "metadata": {
        "colab_type": "text",
        "id": "xIE7qx_a7D0e"
      },
      "source": [
        "NeuroGym is a comprehensive toolkit that allows training any network model on many established neuroscience tasks using Reinforcement Learning techniques. It includes working memory tasks, value-based decision tasks and context-dependent perceptual categorization tasks.\n",
        "\n",
        "In this notebook we first show how to install the relevant toolbox. \n",
        "\n",
        "We then show how to access the available tasks and their relevant information.\n",
        "\n",
        "Finally we train an LSTM network on the Random Dots Motion task using standard supervised learning techniques (with Keras), and plot the results."
      ]
    },
    {
      "cell_type": "markdown",
      "metadata": {
        "colab_type": "text",
        "id": "DS1FhYPG38WO"
      },
      "source": [
        "### Installation"
      ]
    },
    {
      "cell_type": "code",
      "metadata": {
        "colab_type": "code",
        "id": "Q-4MfhnP4AgL",
        "colab": {
          "base_uri": "https://localhost:8080/",
          "height": 561
        },
        "outputId": "609a4b19-e5c5-4ff9-ca31-52b1b40f230d"
      },
      "source": [
        "%tensorflow_version 1.x\n",
        "# Install gym\n",
        "! pip install gym\n",
        "# Install neurogym\n",
        "! git clone https://github.com/gyyang/neurogym.git\n",
        "%cd neurogym/\n",
        "! pip install -e ."
      ],
      "execution_count": 1,
      "outputs": [
        {
          "output_type": "stream",
          "text": [
            "Requirement already satisfied: gym in /usr/local/lib/python3.6/dist-packages (0.15.6)\n",
            "Requirement already satisfied: cloudpickle~=1.2.0 in /usr/local/lib/python3.6/dist-packages (from gym) (1.2.2)\n",
            "Requirement already satisfied: six in /usr/local/lib/python3.6/dist-packages (from gym) (1.12.0)\n",
            "Requirement already satisfied: scipy in /usr/local/lib/python3.6/dist-packages (from gym) (1.4.1)\n",
            "Requirement already satisfied: pyglet<=1.5.0,>=1.4.0 in /usr/local/lib/python3.6/dist-packages (from gym) (1.4.10)\n",
            "Requirement already satisfied: numpy>=1.10.4 in /usr/local/lib/python3.6/dist-packages (from gym) (1.17.5)\n",
            "Requirement already satisfied: future in /usr/local/lib/python3.6/dist-packages (from pyglet<=1.5.0,>=1.4.0->gym) (0.16.0)\n",
            "Cloning into 'neurogym'...\n",
            "remote: Enumerating objects: 350, done.\u001b[K\n",
            "remote: Counting objects: 100% (350/350), done.\u001b[K\n",
            "remote: Compressing objects: 100% (184/184), done.\u001b[K\n",
            "remote: Total 7718 (delta 249), reused 243 (delta 160), pack-reused 7368\u001b[K\n",
            "Receiving objects: 100% (7718/7718), 7.57 MiB | 11.18 MiB/s, done.\n",
            "Resolving deltas: 100% (5664/5664), done.\n",
            "/content/neurogym\n",
            "Obtaining file:///content/neurogym\n",
            "Requirement already satisfied: numpy in /usr/local/lib/python3.6/dist-packages (from neurogym==0.0.1) (1.17.5)\n",
            "Requirement already satisfied: gym in /usr/local/lib/python3.6/dist-packages (from neurogym==0.0.1) (0.15.6)\n",
            "Requirement already satisfied: matplotlib in /usr/local/lib/python3.6/dist-packages (from neurogym==0.0.1) (3.1.3)\n",
            "Requirement already satisfied: scipy in /usr/local/lib/python3.6/dist-packages (from gym->neurogym==0.0.1) (1.4.1)\n",
            "Requirement already satisfied: pyglet<=1.5.0,>=1.4.0 in /usr/local/lib/python3.6/dist-packages (from gym->neurogym==0.0.1) (1.4.10)\n",
            "Requirement already satisfied: cloudpickle~=1.2.0 in /usr/local/lib/python3.6/dist-packages (from gym->neurogym==0.0.1) (1.2.2)\n",
            "Requirement already satisfied: six in /usr/local/lib/python3.6/dist-packages (from gym->neurogym==0.0.1) (1.12.0)\n",
            "Requirement already satisfied: python-dateutil>=2.1 in /usr/local/lib/python3.6/dist-packages (from matplotlib->neurogym==0.0.1) (2.6.1)\n",
            "Requirement already satisfied: kiwisolver>=1.0.1 in /usr/local/lib/python3.6/dist-packages (from matplotlib->neurogym==0.0.1) (1.1.0)\n",
            "Requirement already satisfied: cycler>=0.10 in /usr/local/lib/python3.6/dist-packages (from matplotlib->neurogym==0.0.1) (0.10.0)\n",
            "Requirement already satisfied: pyparsing!=2.0.4,!=2.1.2,!=2.1.6,>=2.0.1 in /usr/local/lib/python3.6/dist-packages (from matplotlib->neurogym==0.0.1) (2.4.6)\n",
            "Requirement already satisfied: future in /usr/local/lib/python3.6/dist-packages (from pyglet<=1.5.0,>=1.4.0->gym->neurogym==0.0.1) (0.16.0)\n",
            "Requirement already satisfied: setuptools in /usr/local/lib/python3.6/dist-packages (from kiwisolver>=1.0.1->matplotlib->neurogym==0.0.1) (45.1.0)\n",
            "Installing collected packages: neurogym\n",
            "  Running setup.py develop for neurogym\n",
            "Successfully installed neurogym\n"
          ],
          "name": "stdout"
        }
      ]
    },
    {
      "cell_type": "markdown",
      "metadata": {
        "colab_type": "text",
        "id": "OCFMPbzX38Wj"
      },
      "source": [
        "### Example"
      ]
    },
    {
      "cell_type": "code",
      "metadata": {
        "code_folding": [],
        "colab_type": "code",
        "id": "jAxTPbzL38Wl",
        "outputId": "a7a65c14-5e6b-40ab-9f85-2ef8db4355e1",
        "colab": {
          "base_uri": "https://localhost:8080/",
          "height": 496
        }
      },
      "source": [
        "import warnings\n",
        "\n",
        "import numpy as np\n",
        "import neurogym as ngym\n",
        "\n",
        "from tensorflow.keras.models import Model\n",
        "from tensorflow.keras.layers import Dense, LSTM, TimeDistributed, Input\n",
        "\n",
        "warnings.filterwarnings('ignore')\n",
        "warnings.filterwarnings('default')\n",
        "\n",
        "# Environment\n",
        "task = 'PerceptualDecisionMaking-v0'\n",
        "kwargs = {'dt': 100}\n",
        "seq_len = 40\n",
        "\n",
        "# Make supervised dataset\n",
        "dataset = ngym.Dataset(task, env_kwargs=kwargs, batch_size=16,\n",
        "                       seq_len=seq_len)\n",
        "env = dataset.env\n",
        "obs_size = env.observation_space.shape[0]\n",
        "act_size = env.action_space.n\n",
        "\n",
        "# Model \n",
        "num_h = 64\n",
        "# from https://www.tensorflow.org/guide/keras/rnn\n",
        "xin = Input(batch_shape=(None, None, obs_size), dtype='float32')\n",
        "seq = LSTM(num_h, return_sequences=True)(xin)\n",
        "mlp = TimeDistributed(Dense(act_size, activation='softmax'))(seq)\n",
        "model = Model(inputs=xin, outputs=mlp)\n",
        "model.summary()\n",
        "model.compile(optimizer='Adam', loss='sparse_categorical_crossentropy',\n",
        "              metrics=['accuracy'])\n",
        "\n",
        "# Train network\n",
        "steps_per_epoch = 2000\n",
        "data_generator = (dataset() for i in range(steps_per_epoch))\n",
        "history = model.fit(data_generator, steps_per_epoch=steps_per_epoch)"
      ],
      "execution_count": 2,
      "outputs": [
        {
          "output_type": "stream",
          "text": [
            "WARNING:tensorflow:From /usr/local/lib/python3.6/dist-packages/tensorflow_core/python/ops/resource_variable_ops.py:1630: calling BaseResourceVariable.__init__ (from tensorflow.python.ops.resource_variable_ops) with constraint is deprecated and will be removed in a future version.\n",
            "Instructions for updating:\n",
            "If using Keras pass *_constraint arguments to layers.\n"
          ],
          "name": "stdout"
        },
        {
          "output_type": "stream",
          "text": [
            "/usr/local/lib/python3.6/dist-packages/gym/logger.py:30: UserWarning: \u001b[33mWARN: Box bound precision lowered by casting to float32\u001b[0m\n",
            "  warnings.warn(colorize('%s: %s'%('WARN', msg % args), 'yellow'))\n",
            "/content/neurogym/neurogym/core.py:253: UserWarning: Warning: Time for period fixation 100.000000  lasts only one timestep. Agents will not have time to respond (e.g. make a choice) on time.\n",
            "  ' time to respond (e.g. make a choice) on time.')\n",
            "/content/neurogym/neurogym/core.py:253: UserWarning: Warning: Time for period decision 100.000000  lasts only one timestep. Agents will not have time to respond (e.g. make a choice) on time.\n",
            "  ' time to respond (e.g. make a choice) on time.')\n"
          ],
          "name": "stderr"
        },
        {
          "output_type": "stream",
          "text": [
            "Model: \"model\"\n",
            "_________________________________________________________________\n",
            "Layer (type)                 Output Shape              Param #   \n",
            "=================================================================\n",
            "input_1 (InputLayer)         [(None, None, 3)]         0         \n",
            "_________________________________________________________________\n",
            "lstm (LSTM)                  (None, None, 64)          17408     \n",
            "_________________________________________________________________\n",
            "time_distributed (TimeDistri (None, None, 3)           195       \n",
            "=================================================================\n",
            "Total params: 17,603\n",
            "Trainable params: 17,603\n",
            "Non-trainable params: 0\n",
            "_________________________________________________________________\n",
            "WARNING:tensorflow:From /usr/local/lib/python3.6/dist-packages/tensorflow_core/python/ops/math_grad.py:1424: where (from tensorflow.python.ops.array_ops) is deprecated and will be removed in a future version.\n",
            "Instructions for updating:\n",
            "Use tf.where in 2.0, which has the same broadcast rule as np.where\n",
            "2000/2000 [==============================] - 116s 58ms/step - loss: 0.0398 - acc: 0.9934\n"
          ],
          "name": "stdout"
        }
      ]
    },
    {
      "cell_type": "code",
      "metadata": {
        "id": "iaeFA3oklR99",
        "colab_type": "code",
        "outputId": "f9f027df-f67e-41a6-d5d3-dd2d98555d6e",
        "colab": {
          "base_uri": "https://localhost:8080/",
          "height": 122
        }
      },
      "source": [
        "# TODO: Make this into a function in neurogym\n",
        "perf = 0\n",
        "num_trial = 200\n",
        "for i in range(num_trial):\n",
        "    env.new_trial()\n",
        "    obs, gt = env.obs, env.gt\n",
        "    obs = obs[np.newaxis]\n",
        "\n",
        "    action_pred = model.predict(obs)\n",
        "    action_pred = np.argmax(action_pred, axis=-1)\n",
        "    perf += gt[-1] == action_pred[0, -1]\n",
        "\n",
        "perf /= num_trial\n",
        "print(perf)"
      ],
      "execution_count": 5,
      "outputs": [
        {
          "output_type": "stream",
          "text": [
            "/content/neurogym/neurogym/core.py:253: UserWarning: Warning: Time for period fixation 100.000000  lasts only one timestep. Agents will not have time to respond (e.g. make a choice) on time.\n",
            "  ' time to respond (e.g. make a choice) on time.')\n",
            "/content/neurogym/neurogym/core.py:253: UserWarning: Warning: Time for period decision 100.000000  lasts only one timestep. Agents will not have time to respond (e.g. make a choice) on time.\n",
            "  ' time to respond (e.g. make a choice) on time.')\n"
          ],
          "name": "stderr"
        },
        {
          "output_type": "stream",
          "text": [
            "0.755\n"
          ],
          "name": "stdout"
        }
      ]
    },
    {
      "cell_type": "code",
      "metadata": {
        "id": "TdpkVOLhuRAK",
        "colab_type": "code",
        "outputId": "e1abdc87-eaff-4e32-d395-1af3513a80ff",
        "colab": {
          "base_uri": "https://localhost:8080/",
          "height": 225
        }
      },
      "source": [
        "_ = ngym.utils.plotting.fig_(obs[0], action_pred[0], gt)"
      ],
      "execution_count": 6,
      "outputs": [
        {
          "output_type": "display_data",
          "data": {
            "image/png": "[encoded data removed]",
            "text/plain": [
              "<Figure size 360x216 with 2 Axes>"
            ]
          },
          "metadata": {
            "tags": []
          }
        }
      ]
    },
    {
      "cell_type": "code",
      "metadata": {
        "id": "OfGvOBO-84l-",
        "colab_type": "code",
        "colab": {}
      },
      "source": [
        ""
      ],
      "execution_count": 0,
      "outputs": []
    }
  ]
}