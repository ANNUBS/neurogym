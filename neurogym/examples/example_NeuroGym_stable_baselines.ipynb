{
  "nbformat": 4,
  "nbformat_minor": 0,
  "metadata": {
    "accelerator": "GPU",
    "colab": {
      "name": "example_NeuroGym_stable_baselines.ipynb",
      "provenance": [],
      "collapsed_sections": [
        "4zW6CU8F69Zp",
        "DS1FhYPG38WO",
        "ZNM3oKRhtD24"
      ],
      "include_colab_link": true
    },
    "kernelspec": {
      "display_name": "Python 3",
      "language": "python",
      "name": "python3"
    },
    "language_info": {
      "codemirror_mode": {
        "name": "ipython",
        "version": 3
      },
      "file_extension": ".py",
      "mimetype": "text/x-python",
      "name": "python",
      "nbconvert_exporter": "python",
      "pygments_lexer": "ipython3",
      "version": "3.7.3"
    }
  },
  "cells": [
    {
      "cell_type": "markdown",
      "metadata": {
        "id": "view-in-github",
        "colab_type": "text"
      },
      "source": [
        "<a href=\"https://colab.research.google.com/github/gyyang/neurogym/blob/master/example_NeuroGym_stable_baselines.ipynb\" target=\"_parent\"><img src=\"https://colab.research.google.com/assets/colab-badge.svg\" alt=\"Open In Colab\"/></a>"
      ]
    },
    {
      "cell_type": "markdown",
      "metadata": {
        "colab_type": "text",
        "id": "4zW6CU8F69Zp"
      },
      "source": [
        "# NeuroGym"
      ]
    },
    {
      "cell_type": "markdown",
      "metadata": {
        "colab_type": "text",
        "id": "xIE7qx_a7D0e"
      },
      "source": [
        "NeuroGym is a comprehensive toolkit that allows training any network model on many established neuroscience tasks using Reinforcement Learning techniques. It includes working memory tasks, value-based decision tasks and context-dependent perceptual categorization tasks.\n",
        "Bellow we show an example in which we trained the A3C algorithm [Mnih et al. 2016 ](https://arxiv.org/abs/1602.01783) on the Random Dots Motion task. The implementation of the A3C algorithm is based on the one explained in [this post](https://medium.com/emergent-future/simple-reinforcement-learning-with-tensorflow-part-8-asynchronous-actor-critic-agents-a3c-c88f72a5e9f2)."
      ]
    },
    {
      "cell_type": "code",
      "metadata": {
        "id": "Mp-K8wKGtBoE",
        "colab_type": "code",
        "colab": {}
      },
      "source": [
        "%tensorflow_version 1.x"
      ],
      "execution_count": 0,
      "outputs": []
    },
    {
      "cell_type": "markdown",
      "metadata": {
        "colab_type": "text",
        "id": "DS1FhYPG38WO"
      },
      "source": [
        "# Install Gym and NeuroGym"
      ]
    },
    {
      "cell_type": "code",
      "metadata": {
        "colab_type": "code",
        "id": "Q-4MfhnP4AgL",
        "outputId": "8726b29b-0069-4a6e-92cd-fc5199767d0e",
        "colab": {
          "base_uri": "https://localhost:8080/",
          "height": 0
        }
      },
      "source": [
        "! pip install gym"
      ],
      "execution_count": 2,
      "outputs": [
        {
          "output_type": "stream",
          "text": [
            "Requirement already satisfied: gym in /usr/local/lib/python3.6/dist-packages (0.15.4)\n",
            "Requirement already satisfied: opencv-python in /usr/local/lib/python3.6/dist-packages (from gym) (4.1.2.30)\n",
            "Requirement already satisfied: cloudpickle~=1.2.0 in /usr/local/lib/python3.6/dist-packages (from gym) (1.2.2)\n",
            "Requirement already satisfied: numpy>=1.10.4 in /usr/local/lib/python3.6/dist-packages (from gym) (1.17.5)\n",
            "Requirement already satisfied: six in /usr/local/lib/python3.6/dist-packages (from gym) (1.12.0)\n",
            "Requirement already satisfied: scipy in /usr/local/lib/python3.6/dist-packages (from gym) (1.4.1)\n",
            "Requirement already satisfied: pyglet<=1.3.2,>=1.2.0 in /usr/local/lib/python3.6/dist-packages (from gym) (1.3.2)\n",
            "Requirement already satisfied: future in /usr/local/lib/python3.6/dist-packages (from pyglet<=1.3.2,>=1.2.0->gym) (0.16.0)\n"
          ],
          "name": "stdout"
        }
      ]
    },
    {
      "cell_type": "markdown",
      "metadata": {
        "id": "ZNM3oKRhtD24",
        "colab_type": "text"
      },
      "source": [
        "# Install NeuroGym"
      ]
    },
    {
      "cell_type": "code",
      "metadata": {
        "colab_type": "code",
        "id": "UkKpnRc53FIN",
        "outputId": "eadc0f2c-c49c-4eda-b1fc-844f3f69bb26",
        "colab": {
          "base_uri": "https://localhost:8080/",
          "height": 0
        }
      },
      "source": [
        "! git clone https://github.com/gyyang/neurogym.git"
      ],
      "execution_count": 3,
      "outputs": [
        {
          "output_type": "stream",
          "text": [
            "Cloning into 'neurogym'...\n",
            "remote: Enumerating objects: 489, done.\u001b[K\n",
            "remote: Counting objects: 100% (489/489), done.\u001b[K\n",
            "remote: Compressing objects: 100% (299/299), done.\u001b[K\n",
            "remote: Total 4963 (delta 317), reused 329 (delta 175), pack-reused 4474\u001b[K\n",
            "Receiving objects: 100% (4963/4963), 3.89 MiB | 5.89 MiB/s, done.\n",
            "Resolving deltas: 100% (3555/3555), done.\n"
          ],
          "name": "stdout"
        }
      ]
    },
    {
      "cell_type": "code",
      "metadata": {
        "id": "1B-_H3eAqpzr",
        "colab_type": "code",
        "outputId": "43a389be-5e7c-4ffb-dbaa-e9ea91374df0",
        "colab": {
          "base_uri": "https://localhost:8080/",
          "height": 0
        }
      },
      "source": [
        "cd neurogym"
      ],
      "execution_count": 4,
      "outputs": [
        {
          "output_type": "stream",
          "text": [
            "/content/neurogym\n"
          ],
          "name": "stdout"
        }
      ]
    },
    {
      "cell_type": "code",
      "metadata": {
        "id": "odHIweJ7qpzw",
        "colab_type": "code",
        "outputId": "d9527692-e1f9-4e2d-a04a-f3b56c88c6b5",
        "colab": {
          "base_uri": "https://localhost:8080/",
          "height": 0
        }
      },
      "source": [
        "pip install -e ."
      ],
      "execution_count": 5,
      "outputs": [
        {
          "output_type": "stream",
          "text": [
            "Obtaining file:///content/neurogym\n",
            "Requirement already satisfied: gym in /usr/local/lib/python3.6/dist-packages (from neurogym==0.0.1) (0.15.4)\n",
            "Requirement already satisfied: matplotlib in /usr/local/lib/python3.6/dist-packages (from neurogym==0.0.1) (3.1.2)\n",
            "Requirement already satisfied: pyglet<=1.3.2,>=1.2.0 in /usr/local/lib/python3.6/dist-packages (from gym->neurogym==0.0.1) (1.3.2)\n",
            "Requirement already satisfied: scipy in /usr/local/lib/python3.6/dist-packages (from gym->neurogym==0.0.1) (1.4.1)\n",
            "Requirement already satisfied: numpy>=1.10.4 in /usr/local/lib/python3.6/dist-packages (from gym->neurogym==0.0.1) (1.17.5)\n",
            "Requirement already satisfied: cloudpickle~=1.2.0 in /usr/local/lib/python3.6/dist-packages (from gym->neurogym==0.0.1) (1.2.2)\n",
            "Requirement already satisfied: opencv-python in /usr/local/lib/python3.6/dist-packages (from gym->neurogym==0.0.1) (4.1.2.30)\n",
            "Requirement already satisfied: six in /usr/local/lib/python3.6/dist-packages (from gym->neurogym==0.0.1) (1.12.0)\n",
            "Requirement already satisfied: python-dateutil>=2.1 in /usr/local/lib/python3.6/dist-packages (from matplotlib->neurogym==0.0.1) (2.6.1)\n",
            "Requirement already satisfied: pyparsing!=2.0.4,!=2.1.2,!=2.1.6,>=2.0.1 in /usr/local/lib/python3.6/dist-packages (from matplotlib->neurogym==0.0.1) (2.4.6)\n",
            "Requirement already satisfied: cycler>=0.10 in /usr/local/lib/python3.6/dist-packages (from matplotlib->neurogym==0.0.1) (0.10.0)\n",
            "Requirement already satisfied: kiwisolver>=1.0.1 in /usr/local/lib/python3.6/dist-packages (from matplotlib->neurogym==0.0.1) (1.1.0)\n",
            "Requirement already satisfied: future in /usr/local/lib/python3.6/dist-packages (from pyglet<=1.3.2,>=1.2.0->gym->neurogym==0.0.1) (0.16.0)\n",
            "Requirement already satisfied: setuptools in /usr/local/lib/python3.6/dist-packages (from kiwisolver>=1.0.1->matplotlib->neurogym==0.0.1) (42.0.2)\n",
            "Installing collected packages: neurogym\n",
            "  Running setup.py develop for neurogym\n",
            "Successfully installed neurogym\n"
          ],
          "name": "stdout"
        }
      ]
    },
    {
      "cell_type": "markdown",
      "metadata": {
        "id": "VV3hssOvb7Zn",
        "colab_type": "text"
      },
      "source": [
        "# Install Stable-Baselines"
      ]
    },
    {
      "cell_type": "code",
      "metadata": {
        "id": "vWK-_Q26kkB8",
        "colab_type": "code",
        "colab": {
          "base_uri": "https://localhost:8080/",
          "height": 34
        },
        "outputId": "b83ee5a1-2372-409c-bebf-068436c17a80"
      },
      "source": [
        "cd /content"
      ],
      "execution_count": 6,
      "outputs": [
        {
          "output_type": "stream",
          "text": [
            "/content\n"
          ],
          "name": "stdout"
        }
      ]
    },
    {
      "cell_type": "code",
      "metadata": {
        "id": "DC3U9MFPcBWu",
        "colab_type": "code",
        "colab": {
          "base_uri": "https://localhost:8080/",
          "height": 136
        },
        "outputId": "91a1a0dd-6f50-437f-80d2-38116eb79bbc"
      },
      "source": [
        "! git clone https://github.com/hill-a/stable-baselines.git"
      ],
      "execution_count": 7,
      "outputs": [
        {
          "output_type": "stream",
          "text": [
            "Cloning into 'stable-baselines'...\n",
            "remote: Enumerating objects: 52, done.\u001b[K\n",
            "remote: Counting objects:   1% (1/52)\u001b[K\rremote: Counting objects:   3% (2/52)\u001b[K\rremote: Counting objects:   5% (3/52)\u001b[K\rremote: Counting objects:   7% (4/52)\u001b[K\rremote: Counting objects:   9% (5/52)\u001b[K\rremote: Counting objects:  11% (6/52)\u001b[K\rremote: Counting objects:  13% (7/52)\u001b[K\rremote: Counting objects:  15% (8/52)\u001b[K\rremote: Counting objects:  17% (9/52)\u001b[K\rremote: Counting objects:  19% (10/52)\u001b[K\rremote: Counting objects:  21% (11/52)\u001b[K\rremote: Counting objects:  23% (12/52)\u001b[K\rremote: Counting objects:  25% (13/52)\u001b[K\rremote: Counting objects:  26% (14/52)\u001b[K\rremote: Counting objects:  28% (15/52)\u001b[K\rremote: Counting objects:  30% (16/52)\u001b[K\rremote: Counting objects:  32% (17/52)\u001b[K\rremote: Counting objects:  34% (18/52)\u001b[K\rremote: Counting objects:  36% (19/52)\u001b[K\rremote: Counting objects:  38% (20/52)\u001b[K\rremote: Counting objects:  40% (21/52)\u001b[K\rremote: Counting objects:  42% (22/52)\u001b[K\rremote: Counting objects:  44% (23/52)\u001b[K\rremote: Counting objects:  46% (24/52)\u001b[K\rremote: Counting objects:  48% (25/52)\u001b[K\rremote: Counting objects:  50% (26/52)\u001b[K\rremote: Counting objects:  51% (27/52)\u001b[K\rremote: Counting objects:  53% (28/52)\u001b[K\rremote: Counting objects:  55% (29/52)\u001b[K\rremote: Counting objects:  57% (30/52)\u001b[K\rremote: Counting objects:  59% (31/52)\u001b[K\rremote: Counting objects:  61% (32/52)\u001b[K\rremote: Counting objects:  63% (33/52)\u001b[K\rremote: Counting objects:  65% (34/52)\u001b[K\rremote: Counting objects:  67% (35/52)\u001b[K\rremote: Counting objects:  69% (36/52)\u001b[K\rremote: Counting objects:  71% (37/52)\u001b[K\rremote: Counting objects:  73% (38/52)\u001b[K\rremote: Counting objects:  75% (39/52)\u001b[K\rremote: Counting objects:  76% (40/52)\u001b[K\rremote: Counting objects:  78% (41/52)\u001b[K\rremote: Counting objects:  80% (42/52)\u001b[K\rremote: Counting objects:  82% (43/52)\u001b[K\rremote: Counting objects:  84% (44/52)\u001b[K\rremote: Counting objects:  86% (45/52)\u001b[K\rremote: Counting objects:  88% (46/52)\u001b[K\rremote: Counting objects:  90% (47/52)\u001b[K\rremote: Counting objects:  92% (48/52)\u001b[K\rremote: Counting objects:  94% (49/52)\u001b[K\rremote: Counting objects:  96% (50/52)\u001b[K\rremote: Counting objects:  98% (51/52)\u001b[K\rremote: Counting objects: 100% (52/52)\u001b[K\rremote: Counting objects: 100% (52/52), done.\u001b[K\n",
            "remote: Compressing objects: 100% (45/45), done.\u001b[K\n",
            "remote: Total 8970 (delta 23), reused 16 (delta 7), pack-reused 8918\u001b[K\n",
            "Receiving objects: 100% (8970/8970), 9.56 MiB | 10.42 MiB/s, done.\n",
            "Resolving deltas: 100% (6744/6744), done.\n"
          ],
          "name": "stdout"
        }
      ]
    },
    {
      "cell_type": "code",
      "metadata": {
        "id": "3mfqFEPyiqIe",
        "colab_type": "code",
        "colab": {
          "base_uri": "https://localhost:8080/",
          "height": 697
        },
        "outputId": "54b8ba54-f477-4278-f7e5-01335e64b7b1"
      },
      "source": [
        "! apt-get update && apt-get install cmake libopenmpi-dev python3-dev zlib1g-dev"
      ],
      "execution_count": 8,
      "outputs": [
        {
          "output_type": "stream",
          "text": [
            "\r0% [Working]\r            \rGet:1 http://security.ubuntu.com/ubuntu bionic-security InRelease [88.7 kB]\n",
            "\r0% [Connecting to archive.ubuntu.com (91.189.88.162)] [1 InRelease 2,586 B/88.7\r                                                                               \rGet:2 http://ppa.launchpad.net/graphics-drivers/ppa/ubuntu bionic InRelease [21.3 kB]\n",
            "\r0% [Waiting for headers] [1 InRelease 11.3 kB/88.7 kB 13%] [Connecting to cloud\r                                                                               \rHit:3 http://archive.ubuntu.com/ubuntu bionic InRelease\n",
            "\r0% [1 InRelease 51.8 kB/88.7 kB 58%] [Connecting to cloud.r-project.org] [Conne\r                                                                               \rGet:4 http://archive.ubuntu.com/ubuntu bionic-updates InRelease [88.7 kB]\n",
            "\r0% [4 InRelease 18.5 kB/88.7 kB 21%] [1 InRelease 51.8 kB/88.7 kB 58%] [Connect\r0% [3 InRelease gpgv 242 kB] [4 InRelease 24.3 kB/88.7 kB 27%] [1 InRelease 54.\r0% [3 InRelease gpgv 242 kB] [4 InRelease 59.1 kB/88.7 kB 67%] [Connecting to c\r                                                                               \rGet:5 http://ppa.launchpad.net/marutter/c2d4u3.5/ubuntu bionic InRelease [15.4 kB]\n",
            "\r0% [3 InRelease gpgv 242 kB] [4 InRelease 63.4 kB/88.7 kB 71%] [Connecting to c\r0% [3 InRelease gpgv 242 kB] [4 InRelease 69.2 kB/88.7 kB 78%] [Connecting to c\r0% [3 InRelease gpgv 242 kB] [Waiting for headers] [Connecting to cloud.r-proje\r                                                                               \rGet:6 http://archive.ubuntu.com/ubuntu bionic-backports InRelease [74.6 kB]\n",
            "\r0% [3 InRelease gpgv 242 kB] [Connected to cloud.r-project.org (54.240.168.48)]\r                                                                               \rGet:7 https://cloud.r-project.org/bin/linux/ubuntu bionic-cran35/ InRelease [3,626 B]\n",
            "\r0% [3 InRelease gpgv 242 kB] [7 InRelease 0 B/3,626 B 0%] [Connected to develop\r                                                                               \r0% [7 InRelease 0 B/3,626 B 0%] [Waiting for headers]\r0% [2 InRelease gpgv 21.3 kB] [7 InRelease 0 B/3,626 B 0%] [Waiting for headers\r                                                                               \r0% [2 InRelease gpgv 21.3 kB] [Waiting for headers]\r                                                   \rIgn:8 https://developer.download.nvidia.com/compute/cuda/repos/ubuntu1804/x86_64  InRelease\n",
            "\r0% [2 InRelease gpgv 21.3 kB] [Waiting for headers]\r                                                   \r0% [Waiting for headers]\r0% [1 InRelease gpgv 88.7 kB] [Waiting for headers] [Connecting to ppa.launchpa\r                                                                               \rGet:9 http://ppa.launchpad.net/graphics-drivers/ppa/ubuntu bionic/main amd64 Packages [36.8 kB]\n",
            "\r0% [1 InRelease gpgv 88.7 kB] [Waiting for headers] [9 Packages 14.3 kB/36.8 kB\r                                                                               \rIgn:10 https://developer.download.nvidia.com/compute/machine-learning/repos/ubuntu1804/x86_64  InRelease\n",
            "\r                                                                               \r0% [1 InRelease gpgv 88.7 kB] [9 Packages 14.3 kB/36.8 kB 39%]\r                                                              \r0% [1 InRelease gpgv 88.7 kB] [Waiting for headers]\r0% [9 Packages store 0 B] [1 InRelease gpgv 88.7 kB] [Waiting for headers]\r                                                                          \r0% [1 InRelease gpgv 88.7 kB] [Waiting for headers]\r                                                   \rHit:11 https://developer.download.nvidia.com/compute/cuda/repos/ubuntu1804/x86_64  Release\n",
            "\r                                                   \r0% [1 InRelease gpgv 88.7 kB]\r                             \r0% [Waiting for headers]\r0% [5 InRelease gpgv 15.4 kB] [Waiting for headers] [Waiting for headers]\r                                                                         \rGet:12 https://developer.download.nvidia.com/compute/machine-learning/repos/ubuntu1804/x86_64  Release [564 B]\n",
            "\r                                                                         \r0% [5 InRelease gpgv 15.4 kB] [Waiting for headers]\r                                                   \rGet:13 http://security.ubuntu.com/ubuntu bionic-security/restricted amd64 Packages [23.7 kB]\n",
            "\r0% [5 InRelease gpgv 15.4 kB] [13 Packages 12.8 kB/23.7 kB 54%] [Waiting for he\r                                                                               \r0% [5 InRelease gpgv 15.4 kB] [Waiting for headers]\r0% [13 Packages store 0 B] [5 InRelease gpgv 15.4 kB] [Waiting for headers] [Wa\r                                                                               \r0% [5 InRelease gpgv 15.4 kB] [Waiting for headers] [Waiting for headers]\r                                                                         \rGet:14 http://security.ubuntu.com/ubuntu bionic-security/main amd64 Packages [784 kB]\n",
            "\r0% [5 InRelease gpgv 15.4 kB] [14 Packages 12.8 kB/784 kB 2%] [Waiting for head\r                                                                               \r0% [5 InRelease gpgv 15.4 kB] [Waiting for headers]\r0% [14 Packages store 0 B] [5 InRelease gpgv 15.4 kB] [Waiting for headers]\r                                                                           \rGet:15 http://security.ubuntu.com/ubuntu bionic-security/universe amd64 Packages [805 kB]\n",
            "\r0% [14 Packages store 0 B] [5 InRelease gpgv 15.4 kB] [15 Packages 0 B/805 kB 0\r                                                                               \rGet:16 https://developer.download.nvidia.com/compute/machine-learning/repos/ubuntu1804/x86_64  Release.gpg [833 B]\n",
            "\r0% [14 Packages store 0 B] [5 InRelease gpgv 15.4 kB] [15 Packages 786 kB/805 k\r                                                                               \r0% [14 Packages store 0 B] [5 InRelease gpgv 15.4 kB]\r                                                     \rGet:17 http://security.ubuntu.com/ubuntu bionic-security/multiverse amd64 Packages [6,779 B]\n",
            "\r0% [14 Packages store 0 B] [5 InRelease gpgv 15.4 kB] [17 Packages 0 B/6,779 B \r                                                                               \r0% [14 Packages store 0 B] [5 InRelease gpgv 15.4 kB]\r                                                     \r0% [5 InRelease gpgv 15.4 kB]\r0% [15 Packages store 0 B] [5 InRelease gpgv 15.4 kB]\r                                                     \r0% [15 Packages store 0 B]\r0% [15 Packages store 0 B] [4 InRelease gpgv 88.7 kB] [Connecting to ppa.launch\r                                                                               \rGet:18 http://ppa.launchpad.net/marutter/c2d4u3.5/ubuntu bionic/main Sources [1,758 kB]\n",
            "Get:19 http://ppa.launchpad.net/marutter/c2d4u3.5/ubuntu bionic/main amd64 Packages [848 kB]\n",
            "Get:20 http://archive.ubuntu.com/ubuntu bionic-updates/multiverse amd64 Packages [10.8 kB]\n",
            "Get:21 http://archive.ubuntu.com/ubuntu bionic-updates/universe amd64 Packages [1,338 kB]\n",
            "Get:22 http://archive.ubuntu.com/ubuntu bionic-updates/main amd64 Packages [1,078 kB]\n",
            "Get:23 http://archive.ubuntu.com/ubuntu bionic-updates/restricted amd64 Packages [37.4 kB]\n",
            "Get:24 http://archive.ubuntu.com/ubuntu bionic-backports/universe amd64 Packages [4,243 B]\n",
            "Get:25 https://cloud.r-project.org/bin/linux/ubuntu bionic-cran35/ Packages [81.6 kB]\n",
            "Get:27 https://developer.download.nvidia.com/compute/machine-learning/repos/ubuntu1804/x86_64  Packages [30.4 kB]\n",
            "Fetched 7,136 kB in 2s (3,221 kB/s)\n",
            "Reading package lists... Done\n",
            "Reading package lists... Done\n",
            "Building dependency tree       \n",
            "Reading state information... Done\n",
            "zlib1g-dev is already the newest version (1:1.2.11.dfsg-0ubuntu2).\n",
            "zlib1g-dev set to manually installed.\n",
            "libopenmpi-dev is already the newest version (2.1.1-8).\n",
            "cmake is already the newest version (3.10.2-1ubuntu2.18.04.1).\n",
            "python3-dev is already the newest version (3.6.7-1~18.04).\n",
            "The following package was automatically installed and is no longer required:\n",
            "  libnvidia-common-430\n",
            "Use 'apt autoremove' to remove it.\n",
            "0 upgraded, 0 newly installed, 0 to remove and 74 not upgraded.\n"
          ],
          "name": "stdout"
        }
      ]
    },
    {
      "cell_type": "code",
      "metadata": {
        "id": "OhYZ9kGDiwZw",
        "colab_type": "code",
        "colab": {
          "base_uri": "https://localhost:8080/",
          "height": 34
        },
        "outputId": "9d8810f5-427b-46f2-bba2-8aa34c466630"
      },
      "source": [
        "cd stable-baselines/"
      ],
      "execution_count": 9,
      "outputs": [
        {
          "output_type": "stream",
          "text": [
            "/content/stable-baselines\n"
          ],
          "name": "stdout"
        }
      ]
    },
    {
      "cell_type": "code",
      "metadata": {
        "id": "XPuQMwxljBi1",
        "colab_type": "code",
        "colab": {
          "base_uri": "https://localhost:8080/",
          "height": 476
        },
        "outputId": "d9faaaed-46e8-4f14-c705-f1c05df6f7b0"
      },
      "source": [
        "pip install --upgrade stable-baselines"
      ],
      "execution_count": 10,
      "outputs": [
        {
          "output_type": "stream",
          "text": [
            "Collecting stable-baselines\n",
            "\u001b[?25l  Downloading https://files.pythonhosted.org/packages/c0/05/f6651855083020c0363acf483450c23e38d96f5c18bec8bded113d528da5/stable_baselines-2.9.0-py3-none-any.whl (232kB)\n",
            "\r\u001b[K     |█▍                              | 10kB 19.4MB/s eta 0:00:01\r\u001b[K     |██▉                             | 20kB 4.1MB/s eta 0:00:01\r\u001b[K     |████▎                           | 30kB 5.6MB/s eta 0:00:01\r\u001b[K     |█████▋                          | 40kB 5.8MB/s eta 0:00:01\r\u001b[K     |███████                         | 51kB 4.7MB/s eta 0:00:01\r\u001b[K     |████████▌                       | 61kB 5.0MB/s eta 0:00:01\r\u001b[K     |█████████▉                      | 71kB 5.5MB/s eta 0:00:01\r\u001b[K     |███████████▎                    | 81kB 5.9MB/s eta 0:00:01\r\u001b[K     |████████████▊                   | 92kB 6.5MB/s eta 0:00:01\r\u001b[K     |██████████████                  | 102kB 6.2MB/s eta 0:00:01\r\u001b[K     |███████████████▌                | 112kB 6.2MB/s eta 0:00:01\r\u001b[K     |█████████████████               | 122kB 6.2MB/s eta 0:00:01\r\u001b[K     |██████████████████▎             | 133kB 6.2MB/s eta 0:00:01\r\u001b[K     |███████████████████▊            | 143kB 6.2MB/s eta 0:00:01\r\u001b[K     |█████████████████████▏          | 153kB 6.2MB/s eta 0:00:01\r\u001b[K     |██████████████████████▌         | 163kB 6.2MB/s eta 0:00:01\r\u001b[K     |████████████████████████        | 174kB 6.2MB/s eta 0:00:01\r\u001b[K     |█████████████████████████▍      | 184kB 6.2MB/s eta 0:00:01\r\u001b[K     |██████████████████████████▊     | 194kB 6.2MB/s eta 0:00:01\r\u001b[K     |████████████████████████████▏   | 204kB 6.2MB/s eta 0:00:01\r\u001b[K     |█████████████████████████████▋  | 215kB 6.2MB/s eta 0:00:01\r\u001b[K     |███████████████████████████████ | 225kB 6.2MB/s eta 0:00:01\r\u001b[K     |████████████████████████████████| 235kB 6.2MB/s \n",
            "\u001b[?25hRequirement already satisfied, skipping upgrade: scipy in /usr/local/lib/python3.6/dist-packages (from stable-baselines) (1.4.1)\n",
            "Requirement already satisfied, skipping upgrade: numpy in /usr/local/lib/python3.6/dist-packages (from stable-baselines) (1.17.5)\n",
            "Requirement already satisfied, skipping upgrade: pandas in /usr/local/lib/python3.6/dist-packages (from stable-baselines) (0.25.3)\n",
            "Requirement already satisfied, skipping upgrade: gym[atari,classic_control]>=0.10.9 in /usr/local/lib/python3.6/dist-packages (from stable-baselines) (0.15.4)\n",
            "Requirement already satisfied, skipping upgrade: opencv-python in /usr/local/lib/python3.6/dist-packages (from stable-baselines) (4.1.2.30)\n",
            "Requirement already satisfied, skipping upgrade: joblib in /usr/local/lib/python3.6/dist-packages (from stable-baselines) (0.14.1)\n",
            "Requirement already satisfied, skipping upgrade: matplotlib in /usr/local/lib/python3.6/dist-packages (from stable-baselines) (3.1.2)\n",
            "Requirement already satisfied, skipping upgrade: cloudpickle>=0.5.5 in /usr/local/lib/python3.6/dist-packages (from stable-baselines) (1.2.2)\n",
            "Requirement already satisfied, skipping upgrade: pytz>=2017.2 in /usr/local/lib/python3.6/dist-packages (from pandas->stable-baselines) (2018.9)\n",
            "Requirement already satisfied, skipping upgrade: python-dateutil>=2.6.1 in /usr/local/lib/python3.6/dist-packages (from pandas->stable-baselines) (2.6.1)\n",
            "Requirement already satisfied, skipping upgrade: pyglet<=1.3.2,>=1.2.0 in /usr/local/lib/python3.6/dist-packages (from gym[atari,classic_control]>=0.10.9->stable-baselines) (1.3.2)\n",
            "Requirement already satisfied, skipping upgrade: six in /usr/local/lib/python3.6/dist-packages (from gym[atari,classic_control]>=0.10.9->stable-baselines) (1.12.0)\n",
            "Requirement already satisfied, skipping upgrade: atari-py~=0.2.0; extra == \"atari\" in /usr/local/lib/python3.6/dist-packages (from gym[atari,classic_control]>=0.10.9->stable-baselines) (0.2.6)\n",
            "Requirement already satisfied, skipping upgrade: Pillow; extra == \"atari\" in /usr/local/lib/python3.6/dist-packages (from gym[atari,classic_control]>=0.10.9->stable-baselines) (6.2.2)\n",
            "Requirement already satisfied, skipping upgrade: kiwisolver>=1.0.1 in /usr/local/lib/python3.6/dist-packages (from matplotlib->stable-baselines) (1.1.0)\n",
            "Requirement already satisfied, skipping upgrade: pyparsing!=2.0.4,!=2.1.2,!=2.1.6,>=2.0.1 in /usr/local/lib/python3.6/dist-packages (from matplotlib->stable-baselines) (2.4.6)\n",
            "Requirement already satisfied, skipping upgrade: cycler>=0.10 in /usr/local/lib/python3.6/dist-packages (from matplotlib->stable-baselines) (0.10.0)\n",
            "Requirement already satisfied, skipping upgrade: future in /usr/local/lib/python3.6/dist-packages (from pyglet<=1.3.2,>=1.2.0->gym[atari,classic_control]>=0.10.9->stable-baselines) (0.16.0)\n",
            "Requirement already satisfied, skipping upgrade: setuptools in /usr/local/lib/python3.6/dist-packages (from kiwisolver>=1.0.1->matplotlib->stable-baselines) (42.0.2)\n",
            "Installing collected packages: stable-baselines\n",
            "  Found existing installation: stable-baselines 2.2.1\n",
            "    Uninstalling stable-baselines-2.2.1:\n",
            "      Successfully uninstalled stable-baselines-2.2.1\n",
            "Successfully installed stable-baselines-2.9.0\n"
          ],
          "name": "stdout"
        }
      ]
    },
    {
      "cell_type": "markdown",
      "metadata": {
        "id": "9n3jc7Qm0zxO",
        "colab_type": "text"
      },
      "source": [
        "# Access tasks info"
      ]
    },
    {
      "cell_type": "code",
      "metadata": {
        "id": "qq0uJt-MkucS",
        "colab_type": "code",
        "colab": {
          "base_uri": "https://localhost:8080/",
          "height": 34
        },
        "outputId": "49a3b001-ccec-48fb-b255-1f764e2c5957"
      },
      "source": [
        "cd /content/neurogym/"
      ],
      "execution_count": 11,
      "outputs": [
        {
          "output_type": "stream",
          "text": [
            "/content/neurogym\n"
          ],
          "name": "stdout"
        }
      ]
    },
    {
      "cell_type": "code",
      "metadata": {
        "id": "yt0kP1zE0pSx",
        "colab_type": "code",
        "colab": {}
      },
      "source": [
        "from neurogym.meta import tasks_info"
      ],
      "execution_count": 0,
      "outputs": []
    },
    {
      "cell_type": "code",
      "metadata": {
        "id": "TANiVUtr0tO3",
        "colab_type": "code",
        "outputId": "f3f0f400-2016-4722-fe65-257e85df4dfd",
        "colab": {
          "base_uri": "https://localhost:8080/",
          "height": 612
        }
      },
      "source": [
        "tasks_info.info()"
      ],
      "execution_count": 13,
      "outputs": [
        {
          "output_type": "stream",
          "text": [
            "### List of environments implemented\n",
            "\n",
            "\n",
            "* 25 tasks implemented so far.\n",
            "\n",
            "\n",
            "* Under development, details subject to change\n",
            "\n",
            "\n",
            "AngleReproduction-v0\n",
            "AntiReach-v0\n",
            "Bandit-v0\n",
            "Combine-v0\n",
            "DPA-v0\n",
            "DawTwoStep-v0\n",
            "DelayedMatchCategory-v0\n",
            "DelayedMatchSample-v0\n",
            "DelayedMatchToSampleDistractor1D-v0\n",
            "DelayedResponse-v0\n",
            "GNG-v0\n",
            "GenTask-v0\n",
            "IntervalDiscrimination-v0\n",
            "Mante-v0\n",
            "MatchingPenny-v0\n",
            "MemoryRecall-v0\n",
            "MotorTiming-v0\n",
            "NAltRDM-v0\n",
            "RDM-v0\n",
            "Reaching1D-v0\n",
            "Reaching1DWithSelfDistraction-v0\n",
            "ReadySetGo-v0\n",
            "Romo-v0\n",
            "padoaSch-v0\n",
            "pdWager-v0\n",
            "\n"
          ],
          "name": "stdout"
        }
      ]
    },
    {
      "cell_type": "code",
      "metadata": {
        "id": "RaH9CcJdHY5G",
        "colab_type": "code",
        "outputId": "854726e7-bd5a-4285-a776-81e9c3c517aa",
        "colab": {
          "base_uri": "https://localhost:8080/",
          "height": 603
        }
      },
      "source": [
        "tasks_info.info('RDM-v0')"
      ],
      "execution_count": 14,
      "outputs": [
        {
          "output_type": "display_data",
          "data": {
            "image/png": "[encoded data removed]",
            "text/plain": [
              "<Figure size 432x288 with 3 Axes>"
            ]
          },
          "metadata": {
            "tags": []
          }
        },
        {
          "output_type": "stream",
          "text": [
            "#### RDM\n",
            "\n",
            "Random dot motion task. Two-alternative forced choice task in which the subject has to integrate two stimuli to decide which one is higher on average\n",
            "\n",
            "Reference paper: \n",
            "\n",
            "[The analysis of visual motion: a comparison of\n",
            "        neuronal and psychophysical performance](https://www.jneurosci.org/content/12/12/4745)\n",
            "\n",
            "Default Epoch timing (ms) \n",
            "\n",
            "fixation : constant 100\n",
            "\n",
            "stimulus : constant 2000\n",
            "\n",
            "decision : constant 100\n",
            "\n",
            "\n"
          ],
          "name": "stdout"
        }
      ]
    },
    {
      "cell_type": "markdown",
      "metadata": {
        "colab_type": "text",
        "id": "OCFMPbzX38Wj"
      },
      "source": [
        "# Example"
      ]
    },
    {
      "cell_type": "code",
      "metadata": {
        "code_folding": [],
        "colab_type": "code",
        "id": "jAxTPbzL38Wl",
        "colab": {
          "base_uri": "https://localhost:8080/",
          "height": 561
        },
        "outputId": "8e544041-5761-4f67-a2cf-12fd0f3294ef"
      },
      "source": [
        "import gym\n",
        "import neurogym\n",
        "from neurogym.meta import tasks_info\n",
        "from stable_baselines.common.policies import LstmPolicy\n",
        "from stable_baselines.common.vec_env import DummyVecEnv\n",
        "from stable_baselines import A2C  # ACER, PPO2\n",
        "task = 'RDM-v0'\n",
        "KWARGS = {'dt': 100, 'timing': {'fixation': ('constant', 200), 'stimulus': ('constant', 500), 'decision': ('constant', 200)}}\n",
        "\n",
        "env = gym.make('RDM-v0')\n",
        "# Optional: PPO2 requires a vectorized environment to run\n",
        "# the env is now wrapped automatically when passing it to the constructor\n",
        "env = DummyVecEnv([lambda: env])\n",
        "\n",
        "model = A2C(LstmPolicy, env, verbose=1, policy_kwargs={'feature_extraction':\"mlp\"})\n",
        "model.learn(total_timesteps=200000, log_interval=1000)\n",
        "\n",
        "tasks_info.plot_struct(env, num_steps_env=1000, n_stps_plt=200,\n",
        "                       model=model, name=task)\n",
        "\n",
        "env.close()"
      ],
      "execution_count": 0,
      "outputs": [
        {
          "output_type": "stream",
          "text": [
            "---------------------------------\n",
            "| explained_variance | -168     |\n",
            "| fps                | 18       |\n",
            "| nupdates           | 1        |\n",
            "| policy_entropy     | 1.1      |\n",
            "| total_timesteps    | 5        |\n",
            "| value_loss         | 3.83e-05 |\n",
            "---------------------------------\n",
            "---------------------------------\n",
            "| explained_variance | -44.8    |\n",
            "| fps                | 265      |\n",
            "| nupdates           | 1000     |\n",
            "| policy_entropy     | 1.1      |\n",
            "| total_timesteps    | 5000     |\n",
            "| value_loss         | 0.00166  |\n",
            "---------------------------------\n",
            "---------------------------------\n",
            "| explained_variance | 0.0885   |\n",
            "| fps                | 269      |\n",
            "| nupdates           | 2000     |\n",
            "| policy_entropy     | 1.02     |\n",
            "| total_timesteps    | 10000    |\n",
            "| value_loss         | 0.00483  |\n",
            "---------------------------------\n",
            "---------------------------------\n",
            "| explained_variance | -5.45    |\n",
            "| fps                | 270      |\n",
            "| nupdates           | 3000     |\n",
            "| policy_entropy     | 0.911    |\n",
            "| total_timesteps    | 15000    |\n",
            "| value_loss         | 0.0253   |\n",
            "---------------------------------\n"
          ],
          "name": "stdout"
        }
      ]
    }
  ]
}
