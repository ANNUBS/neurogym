{
  "nbformat": 4,
  "nbformat_minor": 0,
  "metadata": {
    "accelerator": "GPU",
    "colab": {
      "name": "example_NeuroGym_stable_baselines.ipynb",
      "provenance": [],
      "collapsed_sections": [
        "4zW6CU8F69Zp",
        "DS1FhYPG38WO",
        "ZNM3oKRhtD24"
      ]
    },
    "kernelspec": {
      "display_name": "Python 3",
      "language": "python",
      "name": "python3"
    },
    "language_info": {
      "codemirror_mode": {
        "name": "ipython",
        "version": 3
      },
      "file_extension": ".py",
      "mimetype": "text/x-python",
      "name": "python",
      "nbconvert_exporter": "python",
      "pygments_lexer": "ipython3",
      "version": "3.7.3"
    }
  },
  "cells": [
    {
      "cell_type": "markdown",
      "metadata": {
        "colab_type": "text",
        "id": "4zW6CU8F69Zp"
      },
      "source": [
        "# NeuroGym"
      ]
    },
    {
      "cell_type": "markdown",
      "metadata": {
        "colab_type": "text",
        "id": "xIE7qx_a7D0e"
      },
      "source": [
        "NeuroGym is a comprehensive toolkit that allows training any network model on many established neuroscience tasks using Reinforcement Learning techniques. It includes working memory tasks, value-based decision tasks and context-dependent perceptual categorization tasks.\n",
        "\n",
        "In this notebook we first show how to install the relevant toolbox. \n",
        "\n",
        "We then show how to access the available tasks and their relevant information.\n",
        "\n",
        "Finally we train the A2C algorithm [Mnih et al. 2016](https://arxiv.org/abs/1602.01783) on the Random Dots Motion task, using the [stable-baselines](https://github.com/hill-a/stable-baselines) toolbox, and plot the results.\n",
        "\n",
        "You can easily change the code to train a network on any other available task or using a different algorithm (e.g. ACER, PPO2)."
      ]
    },
    {
      "cell_type": "code",
      "metadata": {
        "colab_type": "code",
        "id": "Mp-K8wKGtBoE",
        "colab": {}
      },
      "source": [
        "%tensorflow_version 1.x"
      ],
      "execution_count": 0,
      "outputs": []
    },
    {
      "cell_type": "markdown",
      "metadata": {
        "colab_type": "text",
        "id": "DS1FhYPG38WO"
      },
      "source": [
        "# Install Gym and NeuroGym"
      ]
    },
    {
      "cell_type": "code",
      "metadata": {
        "colab_type": "code",
        "id": "Q-4MfhnP4AgL",
        "outputId": "71a55a5c-6b45-41d6-8beb-c9c714fd35dc",
        "colab": {
          "base_uri": "https://localhost:8080/",
          "height": 0
        }
      },
      "source": [
        "! pip install gym"
      ],
      "execution_count": 2,
      "outputs": [
        {
          "output_type": "stream",
          "text": [
            "Requirement already satisfied: gym in /usr/local/lib/python3.6/dist-packages (0.15.4)\n",
            "Requirement already satisfied: pyglet<=1.3.2,>=1.2.0 in /usr/local/lib/python3.6/dist-packages (from gym) (1.3.2)\n",
            "Requirement already satisfied: numpy>=1.10.4 in /usr/local/lib/python3.6/dist-packages (from gym) (1.17.5)\n",
            "Requirement already satisfied: cloudpickle~=1.2.0 in /usr/local/lib/python3.6/dist-packages (from gym) (1.2.2)\n",
            "Requirement already satisfied: six in /usr/local/lib/python3.6/dist-packages (from gym) (1.12.0)\n",
            "Requirement already satisfied: opencv-python in /usr/local/lib/python3.6/dist-packages (from gym) (4.1.2.30)\n",
            "Requirement already satisfied: scipy in /usr/local/lib/python3.6/dist-packages (from gym) (1.4.1)\n",
            "Requirement already satisfied: future in /usr/local/lib/python3.6/dist-packages (from pyglet<=1.3.2,>=1.2.0->gym) (0.16.0)\n"
          ],
          "name": "stdout"
        }
      ]
    },
    {
      "cell_type": "markdown",
      "metadata": {
        "colab_type": "text",
        "id": "ZNM3oKRhtD24"
      },
      "source": [
        "# Install NeuroGym"
      ]
    },
    {
      "cell_type": "code",
      "metadata": {
        "colab_type": "code",
        "id": "UkKpnRc53FIN",
        "outputId": "591a1962-04d4-424a-937e-3b8f799d3e56",
        "colab": {
          "base_uri": "https://localhost:8080/",
          "height": 0
        }
      },
      "source": [
        "! git clone https://github.com/gyyang/neurogym.git"
      ],
      "execution_count": 3,
      "outputs": [
        {
          "output_type": "stream",
          "text": [
            "Cloning into 'neurogym'...\n",
            "remote: Enumerating objects: 76, done.\u001b[K\n",
            "remote: Counting objects: 100% (76/76), done.\u001b[K\n",
            "remote: Compressing objects: 100% (64/64), done.\u001b[K\n",
            "remote: Total 5071 (delta 37), reused 31 (delta 12), pack-reused 4995\u001b[K\n",
            "Receiving objects: 100% (5071/5071), 3.94 MiB | 5.75 MiB/s, done.\n",
            "Resolving deltas: 100% (3639/3639), done.\n"
          ],
          "name": "stdout"
        }
      ]
    },
    {
      "cell_type": "code",
      "metadata": {
        "colab_type": "code",
        "id": "1B-_H3eAqpzr",
        "outputId": "de0d7cf2-31c0-409a-cf7f-c33220e8fe2a",
        "colab": {
          "base_uri": "https://localhost:8080/",
          "height": 0
        }
      },
      "source": [
        "cd neurogym"
      ],
      "execution_count": 4,
      "outputs": [
        {
          "output_type": "stream",
          "text": [
            "/content/neurogym\n"
          ],
          "name": "stdout"
        }
      ]
    },
    {
      "cell_type": "code",
      "metadata": {
        "colab_type": "code",
        "id": "odHIweJ7qpzw",
        "outputId": "66f49b79-1400-4b93-dde2-da4f8d203e42",
        "colab": {
          "base_uri": "https://localhost:8080/",
          "height": 0
        }
      },
      "source": [
        "pip install -e ."
      ],
      "execution_count": 5,
      "outputs": [
        {
          "output_type": "stream",
          "text": [
            "Obtaining file:///content/neurogym\n",
            "Requirement already satisfied: gym in /usr/local/lib/python3.6/dist-packages (from neurogym==0.0.1) (0.15.4)\n",
            "Requirement already satisfied: matplotlib in /usr/local/lib/python3.6/dist-packages (from neurogym==0.0.1) (3.1.2)\n",
            "Requirement already satisfied: opencv-python in /usr/local/lib/python3.6/dist-packages (from gym->neurogym==0.0.1) (4.1.2.30)\n",
            "Requirement already satisfied: cloudpickle~=1.2.0 in /usr/local/lib/python3.6/dist-packages (from gym->neurogym==0.0.1) (1.2.2)\n",
            "Requirement already satisfied: scipy in /usr/local/lib/python3.6/dist-packages (from gym->neurogym==0.0.1) (1.4.1)\n",
            "Requirement already satisfied: six in /usr/local/lib/python3.6/dist-packages (from gym->neurogym==0.0.1) (1.12.0)\n",
            "Requirement already satisfied: pyglet<=1.3.2,>=1.2.0 in /usr/local/lib/python3.6/dist-packages (from gym->neurogym==0.0.1) (1.3.2)\n",
            "Requirement already satisfied: numpy>=1.10.4 in /usr/local/lib/python3.6/dist-packages (from gym->neurogym==0.0.1) (1.17.5)\n",
            "Requirement already satisfied: kiwisolver>=1.0.1 in /usr/local/lib/python3.6/dist-packages (from matplotlib->neurogym==0.0.1) (1.1.0)\n",
            "Requirement already satisfied: python-dateutil>=2.1 in /usr/local/lib/python3.6/dist-packages (from matplotlib->neurogym==0.0.1) (2.6.1)\n",
            "Requirement already satisfied: cycler>=0.10 in /usr/local/lib/python3.6/dist-packages (from matplotlib->neurogym==0.0.1) (0.10.0)\n",
            "Requirement already satisfied: pyparsing!=2.0.4,!=2.1.2,!=2.1.6,>=2.0.1 in /usr/local/lib/python3.6/dist-packages (from matplotlib->neurogym==0.0.1) (2.4.6)\n",
            "Requirement already satisfied: future in /usr/local/lib/python3.6/dist-packages (from pyglet<=1.3.2,>=1.2.0->gym->neurogym==0.0.1) (0.16.0)\n",
            "Requirement already satisfied: setuptools in /usr/local/lib/python3.6/dist-packages (from kiwisolver>=1.0.1->matplotlib->neurogym==0.0.1) (42.0.2)\n",
            "Installing collected packages: neurogym\n",
            "  Running setup.py develop for neurogym\n",
            "Successfully installed neurogym\n"
          ],
          "name": "stdout"
        }
      ]
    },
    {
      "cell_type": "markdown",
      "metadata": {
        "colab_type": "text",
        "id": "VV3hssOvb7Zn"
      },
      "source": [
        "# Install Stable-Baselines"
      ]
    },
    {
      "cell_type": "code",
      "metadata": {
        "colab_type": "code",
        "id": "vWK-_Q26kkB8",
        "outputId": "ad97dc68-b335-40df-bfa0-a32ca7a796b2",
        "colab": {
          "base_uri": "https://localhost:8080/",
          "height": 34
        }
      },
      "source": [
        "cd /content"
      ],
      "execution_count": 6,
      "outputs": [
        {
          "output_type": "stream",
          "text": [
            "/content\n"
          ],
          "name": "stdout"
        }
      ]
    },
    {
      "cell_type": "code",
      "metadata": {
        "colab_type": "code",
        "id": "DC3U9MFPcBWu",
        "outputId": "3e3da4ae-dd44-4442-b27e-d1e58c7703db",
        "colab": {
          "base_uri": "https://localhost:8080/",
          "height": 136
        }
      },
      "source": [
        "! git clone https://github.com/hill-a/stable-baselines.git"
      ],
      "execution_count": 7,
      "outputs": [
        {
          "output_type": "stream",
          "text": [
            "Cloning into 'stable-baselines'...\n",
            "remote: Enumerating objects: 52, done.\u001b[K\n",
            "remote: Counting objects:   1% (1/52)\u001b[K\rremote: Counting objects:   3% (2/52)\u001b[K\rremote: Counting objects:   5% (3/52)\u001b[K\rremote: Counting objects:   7% (4/52)\u001b[K\rremote: Counting objects:   9% (5/52)\u001b[K\rremote: Counting objects:  11% (6/52)\u001b[K\rremote: Counting objects:  13% (7/52)\u001b[K\rremote: Counting objects:  15% (8/52)\u001b[K\rremote: Counting objects:  17% (9/52)\u001b[K\rremote: Counting objects:  19% (10/52)\u001b[K\rremote: Counting objects:  21% (11/52)\u001b[K\rremote: Counting objects:  23% (12/52)\u001b[K\rremote: Counting objects:  25% (13/52)\u001b[K\rremote: Counting objects:  26% (14/52)\u001b[K\rremote: Counting objects:  28% (15/52)\u001b[K\rremote: Counting objects:  30% (16/52)\u001b[K\rremote: Counting objects:  32% (17/52)\u001b[K\rremote: Counting objects:  34% (18/52)\u001b[K\rremote: Counting objects:  36% (19/52)\u001b[K\rremote: Counting objects:  38% (20/52)\u001b[K\rremote: Counting objects:  40% (21/52)\u001b[K\rremote: Counting objects:  42% (22/52)\u001b[K\rremote: Counting objects:  44% (23/52)\u001b[K\rremote: Counting objects:  46% (24/52)\u001b[K\rremote: Counting objects:  48% (25/52)\u001b[K\rremote: Counting objects:  50% (26/52)\u001b[K\rremote: Counting objects:  51% (27/52)\u001b[K\rremote: Counting objects:  53% (28/52)\u001b[K\rremote: Counting objects:  55% (29/52)\u001b[K\rremote: Counting objects:  57% (30/52)\u001b[K\rremote: Counting objects:  59% (31/52)\u001b[K\rremote: Counting objects:  61% (32/52)\u001b[K\rremote: Counting objects:  63% (33/52)\u001b[K\rremote: Counting objects:  65% (34/52)\u001b[K\rremote: Counting objects:  67% (35/52)\u001b[K\rremote: Counting objects:  69% (36/52)\u001b[K\rremote: Counting objects:  71% (37/52)\u001b[K\rremote: Counting objects:  73% (38/52)\u001b[K\rremote: Counting objects:  75% (39/52)\u001b[K\rremote: Counting objects:  76% (40/52)\u001b[K\rremote: Counting objects:  78% (41/52)\u001b[K\rremote: Counting objects:  80% (42/52)\u001b[K\rremote: Counting objects:  82% (43/52)\u001b[K\rremote: Counting objects:  84% (44/52)\u001b[K\rremote: Counting objects:  86% (45/52)\u001b[K\rremote: Counting objects:  88% (46/52)\u001b[K\rremote: Counting objects:  90% (47/52)\u001b[K\rremote: Counting objects:  92% (48/52)\u001b[K\rremote: Counting objects:  94% (49/52)\u001b[K\rremote: Counting objects:  96% (50/52)\u001b[K\rremote: Counting objects:  98% (51/52)\u001b[K\rremote: Counting objects: 100% (52/52)\u001b[K\rremote: Counting objects: 100% (52/52), done.\u001b[K\n",
            "remote: Compressing objects: 100% (45/45), done.\u001b[K\n",
            "remote: Total 8970 (delta 23), reused 16 (delta 7), pack-reused 8918\u001b[K\n",
            "Receiving objects: 100% (8970/8970), 9.56 MiB | 11.97 MiB/s, done.\n",
            "Resolving deltas: 100% (6743/6743), done.\n"
          ],
          "name": "stdout"
        }
      ]
    },
    {
      "cell_type": "code",
      "metadata": {
        "colab_type": "code",
        "id": "3mfqFEPyiqIe",
        "outputId": "f763e508-822c-40ce-8f8c-9b46243ff2cb",
        "colab": {
          "base_uri": "https://localhost:8080/",
          "height": 731
        }
      },
      "source": [
        "! apt-get update && apt-get install cmake libopenmpi-dev python3-dev zlib1g-dev"
      ],
      "execution_count": 8,
      "outputs": [
        {
          "output_type": "stream",
          "text": [
            "\r0% [Working]\r            \rGet:1 http://ppa.launchpad.net/graphics-drivers/ppa/ubuntu bionic InRelease [21.3 kB]\n",
            "\r0% [Connecting to archive.ubuntu.com (91.189.88.24)] [Connecting to security.ub\r0% [Waiting for headers] [Waiting for headers] [Connected to cloud.r-project.or\r                                                                               \rHit:2 http://archive.ubuntu.com/ubuntu bionic InRelease\n",
            "\r                                                                               \rGet:3 http://security.ubuntu.com/ubuntu bionic-security InRelease [88.7 kB]\n",
            "\r0% [Waiting for headers] [3 InRelease 31.5 kB/88.7 kB 36%] [Waiting for headers\r                                                                               \rGet:4 https://cloud.r-project.org/bin/linux/ubuntu bionic-cran35/ InRelease [3,626 B]\n",
            "\r0% [Waiting for headers] [3 InRelease 31.5 kB/88.7 kB 36%] [4 InRelease 2,896 B\r0% [Waiting for headers] [3 InRelease 34.4 kB/88.7 kB 39%] [Waiting for headers\r                                                                               \rGet:5 http://archive.ubuntu.com/ubuntu bionic-updates InRelease [88.7 kB]\n",
            "\r0% [5 InRelease 2,603 B/88.7 kB 3%] [3 InRelease 34.4 kB/88.7 kB 39%] [Waiting \r0% [1 InRelease gpgv 21.3 kB] [5 InRelease 5,499 B/88.7 kB 6%] [3 InRelease 37.\r                                                                               \rGet:6 http://ppa.launchpad.net/marutter/c2d4u3.5/ubuntu bionic InRelease [15.4 kB]\n",
            "\r0% [1 InRelease gpgv 21.3 kB] [5 InRelease 15.6 kB/88.7 kB 18%] [3 InRelease 43\r0% [1 InRelease gpgv 21.3 kB] [5 InRelease 15.6 kB/88.7 kB 18%] [3 InRelease 48\r0% [1 InRelease gpgv 21.3 kB] [5 InRelease 40.3 kB/88.7 kB 45%] [Waiting for he\r                                                                               \r0% [1 InRelease gpgv 21.3 kB] [Waiting for headers]\r                                                   \rGet:7 http://archive.ubuntu.com/ubuntu bionic-backports InRelease [74.6 kB]\n",
            "\r0% [1 InRelease gpgv 21.3 kB] [7 InRelease 11.3 kB/74.6 kB 15%] [Waiting for he\r                                                                               \r0% [1 InRelease gpgv 21.3 kB] [Waiting for headers]\r                                                   \rIgn:8 https://developer.download.nvidia.com/compute/cuda/repos/ubuntu1804/x86_64  InRelease\n",
            "\r                                                   \r0% [1 InRelease gpgv 21.3 kB]\r                             \r0% [Waiting for headers]\r0% [2 InRelease gpgv 242 kB] [Waiting for headers] [Connecting to ppa.launchpad\r                                                                               \rGet:9 http://ppa.launchpad.net/graphics-drivers/ppa/ubuntu bionic/main amd64 Packages [36.8 kB]\n",
            "\r0% [2 InRelease gpgv 242 kB] [Waiting for headers] [9 Packages 12.8 kB/36.8 kB \r                                                                               \r0% [2 InRelease gpgv 242 kB] [Waiting for headers]\r0% [9 Packages store 0 B] [2 InRelease gpgv 242 kB] [Waiting for headers]\r                                                                         \r0% [2 InRelease gpgv 242 kB] [Waiting for headers]\r                                                  \rIgn:10 https://developer.download.nvidia.com/compute/machine-learning/repos/ubuntu1804/x86_64  InRelease\n",
            "\r                                                  \r0% [2 InRelease gpgv 242 kB]\r                            \rGet:11 https://developer.download.nvidia.com/compute/cuda/repos/ubuntu1804/x86_64  Release [564 B]\n",
            "\r0% [2 InRelease gpgv 242 kB]\r                            \rGet:12 https://developer.download.nvidia.com/compute/machine-learning/repos/ubuntu1804/x86_64  Release [564 B]\n",
            "\r0% [2 InRelease gpgv 242 kB]\r                            \rGet:13 https://developer.download.nvidia.com/compute/cuda/repos/ubuntu1804/x86_64  Release.gpg [833 B]\n",
            "\r0% [2 InRelease gpgv 242 kB]\r                            \rGet:14 https://developer.download.nvidia.com/compute/machine-learning/repos/ubuntu1804/x86_64  Release.gpg [833 B]\n",
            "\r0% [2 InRelease gpgv 242 kB] [14 Release.gpg 833 B/833 B 100%]\r                                                              \r0% [2 InRelease gpgv 242 kB]\r                            \r0% [Working]\r0% [4 InRelease gpgv 3,626 B]\r                             \r0% [Working]\r0% [6 InRelease gpgv 15.4 kB] [Waiting for headers]\r                                                   \rGet:15 https://cloud.r-project.org/bin/linux/ubuntu bionic-cran35/ Packages [81.6 kB]\n",
            "\r0% [6 InRelease gpgv 15.4 kB] [15 Packages 0 B/81.6 kB 0%]\r                                                          \r0% [6 InRelease gpgv 15.4 kB]\r0% [15 Packages store 0 B] [6 InRelease gpgv 15.4 kB]\r                                                     \r0% [6 InRelease gpgv 15.4 kB]\r                             \r0% [Working]\r0% [3 InRelease gpgv 88.7 kB] [Connecting to ppa.launchpad.net (91.189.95.83)]\r                                                                              \rGet:16 http://ppa.launchpad.net/marutter/c2d4u3.5/ubuntu bionic/main Sources [1,758 kB]\n",
            "\r                                                                              \r0% [3 InRelease gpgv 88.7 kB] [16 Sources 5,578 B/1,758 kB 0%]\r                                                              \r0% [3 InRelease gpgv 88.7 kB]\r0% [16 Sources store 0 B] [3 InRelease gpgv 88.7 kB]\r                                                    \rGet:17 http://ppa.launchpad.net/marutter/c2d4u3.5/ubuntu bionic/main amd64 Packages [848 kB]\n",
            "\r0% [16 Sources store 0 B] [3 InRelease gpgv 88.7 kB] [17 Packages 14.3 kB/848 k\r                                                                               \r0% [16 Sources store 0 B] [17 Packages 168 kB/848 kB 20%]\r0% [16 Sources store 0 B] [5 InRelease gpgv 88.7 kB] [Waiting for headers] [17 \r                                                                               \rGet:18 http://security.ubuntu.com/ubuntu bionic-security/main amd64 Packages [784 kB]\n",
            "\r0% [16 Sources store 0 B] [5 InRelease gpgv 88.7 kB] [18 Packages 8,479 B/784 k\r0% [16 Sources store 0 B] [5 InRelease gpgv 88.7 kB] [18 Packages 197 kB/784 kB\r                                                                               \r0% [16 Sources store 0 B] [5 InRelease gpgv 88.7 kB]\r                                                    \rGet:19 http://security.ubuntu.com/ubuntu bionic-security/multiverse amd64 Packages [6,779 B]\n",
            "\r0% [16 Sources store 0 B] [5 InRelease gpgv 88.7 kB] [19 Packages 6,779 B/6,779\r                                                                               \rGet:20 http://security.ubuntu.com/ubuntu bionic-security/restricted amd64 Packages [23.7 kB]\n",
            "Get:21 http://security.ubuntu.com/ubuntu bionic-security/universe amd64 Packages [805 kB]\n",
            "Get:22 http://archive.ubuntu.com/ubuntu bionic-updates/universe amd64 Packages [1,338 kB]\n",
            "Get:23 http://archive.ubuntu.com/ubuntu bionic-updates/multiverse amd64 Packages [10.8 kB]\n",
            "Get:24 http://archive.ubuntu.com/ubuntu bionic-updates/restricted amd64 Packages [37.4 kB]\n",
            "Get:25 http://archive.ubuntu.com/ubuntu bionic-updates/main amd64 Packages [1,078 kB]\n",
            "Get:26 http://archive.ubuntu.com/ubuntu bionic-backports/universe amd64 Packages [4,243 B]\n",
            "Get:27 https://developer.download.nvidia.com/compute/cuda/repos/ubuntu1804/x86_64  Packages [132 kB]\n",
            "Get:28 https://developer.download.nvidia.com/compute/machine-learning/repos/ubuntu1804/x86_64  Packages [30.4 kB]\n",
            "Fetched 7,269 kB in 2s (4,105 kB/s)\n",
            "Reading package lists... Done\n",
            "Reading package lists... Done\n",
            "Building dependency tree       \n",
            "Reading state information... Done\n",
            "zlib1g-dev is already the newest version (1:1.2.11.dfsg-0ubuntu2).\n",
            "zlib1g-dev set to manually installed.\n",
            "libopenmpi-dev is already the newest version (2.1.1-8).\n",
            "cmake is already the newest version (3.10.2-1ubuntu2.18.04.1).\n",
            "python3-dev is already the newest version (3.6.7-1~18.04).\n",
            "The following package was automatically installed and is no longer required:\n",
            "  libnvidia-common-430\n",
            "Use 'apt autoremove' to remove it.\n",
            "0 upgraded, 0 newly installed, 0 to remove and 74 not upgraded.\n"
          ],
          "name": "stdout"
        }
      ]
    },
    {
      "cell_type": "code",
      "metadata": {
        "colab_type": "code",
        "id": "OhYZ9kGDiwZw",
        "outputId": "7bcf073d-1ab4-4503-b88f-94f5b63e0105",
        "colab": {
          "base_uri": "https://localhost:8080/",
          "height": 34
        }
      },
      "source": [
        "cd stable-baselines/"
      ],
      "execution_count": 9,
      "outputs": [
        {
          "output_type": "stream",
          "text": [
            "/content/stable-baselines\n"
          ],
          "name": "stdout"
        }
      ]
    },
    {
      "cell_type": "code",
      "metadata": {
        "colab_type": "code",
        "id": "XPuQMwxljBi1",
        "outputId": "8a78228d-4556-4eec-bdd3-9e89e2d0ee4e",
        "colab": {
          "base_uri": "https://localhost:8080/",
          "height": 476
        }
      },
      "source": [
        "pip install --upgrade stable-baselines"
      ],
      "execution_count": 10,
      "outputs": [
        {
          "output_type": "stream",
          "text": [
            "Collecting stable-baselines\n",
            "\u001b[?25l  Downloading https://files.pythonhosted.org/packages/c0/05/f6651855083020c0363acf483450c23e38d96f5c18bec8bded113d528da5/stable_baselines-2.9.0-py3-none-any.whl (232kB)\n",
            "\r\u001b[K     |█▍                              | 10kB 30.5MB/s eta 0:00:01\r\u001b[K     |██▉                             | 20kB 5.7MB/s eta 0:00:01\r\u001b[K     |████▎                           | 30kB 8.1MB/s eta 0:00:01\r\u001b[K     |█████▋                          | 40kB 5.3MB/s eta 0:00:01\r\u001b[K     |███████                         | 51kB 6.5MB/s eta 0:00:01\r\u001b[K     |████████▌                       | 61kB 7.7MB/s eta 0:00:01\r\u001b[K     |█████████▉                      | 71kB 8.8MB/s eta 0:00:01\r\u001b[K     |███████████▎                    | 81kB 9.9MB/s eta 0:00:01\r\u001b[K     |████████████▊                   | 92kB 11.0MB/s eta 0:00:01\r\u001b[K     |██████████████                  | 102kB 8.6MB/s eta 0:00:01\r\u001b[K     |███████████████▌                | 112kB 8.6MB/s eta 0:00:01\r\u001b[K     |█████████████████               | 122kB 8.6MB/s eta 0:00:01\r\u001b[K     |██████████████████▎             | 133kB 8.6MB/s eta 0:00:01\r\u001b[K     |███████████████████▊            | 143kB 8.6MB/s eta 0:00:01\r\u001b[K     |█████████████████████▏          | 153kB 8.6MB/s eta 0:00:01\r\u001b[K     |██████████████████████▌         | 163kB 8.6MB/s eta 0:00:01\r\u001b[K     |████████████████████████        | 174kB 8.6MB/s eta 0:00:01\r\u001b[K     |█████████████████████████▍      | 184kB 8.6MB/s eta 0:00:01\r\u001b[K     |██████████████████████████▊     | 194kB 8.6MB/s eta 0:00:01\r\u001b[K     |████████████████████████████▏   | 204kB 8.6MB/s eta 0:00:01\r\u001b[K     |█████████████████████████████▋  | 215kB 8.6MB/s eta 0:00:01\r\u001b[K     |███████████████████████████████ | 225kB 8.6MB/s eta 0:00:01\r\u001b[K     |████████████████████████████████| 235kB 8.6MB/s \n",
            "\u001b[?25hRequirement already satisfied, skipping upgrade: opencv-python in /usr/local/lib/python3.6/dist-packages (from stable-baselines) (4.1.2.30)\n",
            "Requirement already satisfied, skipping upgrade: gym[atari,classic_control]>=0.10.9 in /usr/local/lib/python3.6/dist-packages (from stable-baselines) (0.15.4)\n",
            "Requirement already satisfied, skipping upgrade: joblib in /usr/local/lib/python3.6/dist-packages (from stable-baselines) (0.14.1)\n",
            "Requirement already satisfied, skipping upgrade: pandas in /usr/local/lib/python3.6/dist-packages (from stable-baselines) (0.25.3)\n",
            "Requirement already satisfied, skipping upgrade: scipy in /usr/local/lib/python3.6/dist-packages (from stable-baselines) (1.4.1)\n",
            "Requirement already satisfied, skipping upgrade: numpy in /usr/local/lib/python3.6/dist-packages (from stable-baselines) (1.17.5)\n",
            "Requirement already satisfied, skipping upgrade: cloudpickle>=0.5.5 in /usr/local/lib/python3.6/dist-packages (from stable-baselines) (1.2.2)\n",
            "Requirement already satisfied, skipping upgrade: matplotlib in /usr/local/lib/python3.6/dist-packages (from stable-baselines) (3.1.2)\n",
            "Requirement already satisfied, skipping upgrade: pyglet<=1.3.2,>=1.2.0 in /usr/local/lib/python3.6/dist-packages (from gym[atari,classic_control]>=0.10.9->stable-baselines) (1.3.2)\n",
            "Requirement already satisfied, skipping upgrade: six in /usr/local/lib/python3.6/dist-packages (from gym[atari,classic_control]>=0.10.9->stable-baselines) (1.12.0)\n",
            "Requirement already satisfied, skipping upgrade: Pillow; extra == \"atari\" in /usr/local/lib/python3.6/dist-packages (from gym[atari,classic_control]>=0.10.9->stable-baselines) (6.2.2)\n",
            "Requirement already satisfied, skipping upgrade: atari-py~=0.2.0; extra == \"atari\" in /usr/local/lib/python3.6/dist-packages (from gym[atari,classic_control]>=0.10.9->stable-baselines) (0.2.6)\n",
            "Requirement already satisfied, skipping upgrade: pytz>=2017.2 in /usr/local/lib/python3.6/dist-packages (from pandas->stable-baselines) (2018.9)\n",
            "Requirement already satisfied, skipping upgrade: python-dateutil>=2.6.1 in /usr/local/lib/python3.6/dist-packages (from pandas->stable-baselines) (2.6.1)\n",
            "Requirement already satisfied, skipping upgrade: cycler>=0.10 in /usr/local/lib/python3.6/dist-packages (from matplotlib->stable-baselines) (0.10.0)\n",
            "Requirement already satisfied, skipping upgrade: kiwisolver>=1.0.1 in /usr/local/lib/python3.6/dist-packages (from matplotlib->stable-baselines) (1.1.0)\n",
            "Requirement already satisfied, skipping upgrade: pyparsing!=2.0.4,!=2.1.2,!=2.1.6,>=2.0.1 in /usr/local/lib/python3.6/dist-packages (from matplotlib->stable-baselines) (2.4.6)\n",
            "Requirement already satisfied, skipping upgrade: future in /usr/local/lib/python3.6/dist-packages (from pyglet<=1.3.2,>=1.2.0->gym[atari,classic_control]>=0.10.9->stable-baselines) (0.16.0)\n",
            "Requirement already satisfied, skipping upgrade: setuptools in /usr/local/lib/python3.6/dist-packages (from kiwisolver>=1.0.1->matplotlib->stable-baselines) (42.0.2)\n",
            "Installing collected packages: stable-baselines\n",
            "  Found existing installation: stable-baselines 2.2.1\n",
            "    Uninstalling stable-baselines-2.2.1:\n",
            "      Successfully uninstalled stable-baselines-2.2.1\n",
            "Successfully installed stable-baselines-2.9.0\n"
          ],
          "name": "stdout"
        }
      ]
    },
    {
      "cell_type": "markdown",
      "metadata": {
        "colab_type": "text",
        "id": "9n3jc7Qm0zxO"
      },
      "source": [
        "# Access tasks info"
      ]
    },
    {
      "cell_type": "code",
      "metadata": {
        "colab_type": "code",
        "id": "qq0uJt-MkucS",
        "outputId": "fd699e3a-1340-43f8-a1ee-1502cc8436b3",
        "colab": {
          "base_uri": "https://localhost:8080/",
          "height": 34
        }
      },
      "source": [
        "cd /content/neurogym/"
      ],
      "execution_count": 11,
      "outputs": [
        {
          "output_type": "stream",
          "text": [
            "/content/neurogym\n"
          ],
          "name": "stdout"
        }
      ]
    },
    {
      "cell_type": "code",
      "metadata": {
        "colab_type": "code",
        "id": "yt0kP1zE0pSx",
        "colab": {}
      },
      "source": [
        "from neurogym.meta import tasks_info"
      ],
      "execution_count": 0,
      "outputs": []
    },
    {
      "cell_type": "code",
      "metadata": {
        "colab_type": "code",
        "id": "TANiVUtr0tO3",
        "outputId": "661e502e-5066-4cac-ae91-b3793db6137c",
        "colab": {
          "base_uri": "https://localhost:8080/",
          "height": 595
        }
      },
      "source": [
        "tasks_info.info()"
      ],
      "execution_count": 13,
      "outputs": [
        {
          "output_type": "stream",
          "text": [
            "### List of environments implemented\n",
            "\n",
            "\n",
            "* 24 tasks implemented so far.\n",
            "\n",
            "\n",
            "* Under development, details subject to change\n",
            "\n",
            "\n",
            "AngleReproduction-v0\n",
            "AntiReach-v0\n",
            "Bandit-v0\n",
            "Combine-v0\n",
            "DPA-v0\n",
            "DawTwoStep-v0\n",
            "DelayedMatchCategory-v0\n",
            "DelayedMatchSample-v0\n",
            "DelayedMatchToSampleDistractor1D-v0\n",
            "DelayedResponse-v0\n",
            "GNG-v0\n",
            "IntervalDiscrimination-v0\n",
            "Mante-v0\n",
            "MatchingPenny-v0\n",
            "MemoryRecall-v0\n",
            "MotorTiming-v0\n",
            "NAltRDM-v0\n",
            "RDM-v0\n",
            "Reaching1D-v0\n",
            "Reaching1DWithSelfDistraction-v0\n",
            "ReadySetGo-v0\n",
            "Romo-v0\n",
            "padoaSch-v0\n",
            "pdWager-v0\n",
            "\n"
          ],
          "name": "stdout"
        }
      ]
    },
    {
      "cell_type": "code",
      "metadata": {
        "colab_type": "code",
        "id": "RaH9CcJdHY5G",
        "outputId": "765c6311-f8f0-42fe-af6a-93d0ef0c7fda",
        "colab": {
          "base_uri": "https://localhost:8080/",
          "height": 1000
        }
      },
      "source": [
        "tasks_info.info('RDM-v0', show_code=True)"
      ],
      "execution_count": 14,
      "outputs": [
        {
          "output_type": "stream",
          "text": [
            "#### Example trials ####\n"
          ],
          "name": "stdout"
        },
        {
          "output_type": "display_data",
          "data": {
            "image/png": "[encoded data removed]",
            "text/plain": [
              "<Figure size 576x576 with 3 Axes>"
            ]
          },
          "metadata": {
            "tags": []
          }
        },
        {
          "output_type": "stream",
          "text": [
            "### RDM task ###\n",
            "\n",
            "Random dot motion task. Two-alternative forced\n",
            "         choice task in which the subject has to integrate two stimuli to\n",
            "         decide which one is higher on average\n",
            "\n",
            "Reference paper: \n",
            "\n",
            "[The analysis of visual motion: a comparison of\n",
            "        neuronal and psychophysical performance](https://www.jneurosci.org/content/12/12/4745)\n",
            "\n",
            "Default Epoch timing (ms) \n",
            "\n",
            "fixation : constant 100\n",
            "\n",
            "stimulus : constant 2000\n",
            "\n",
            "decision : constant 100\n",
            "\n",
            "stimEv : 1.0\n",
            "\n",
            "\n",
            "#### Source code #### \n",
            "\n",
            "class RDM(ngym.EpochEnv):\n",
            "    metadata = {\n",
            "        'description': '''Random dot motion task. Two-alternative forced\n",
            "         choice task in which the subject has to integrate two stimuli to\n",
            "         decide which one is higher on average''',\n",
            "        'paper_link': 'https://www.jneurosci.org/content/12/12/4745',\n",
            "        'paper_name': '''The analysis of visual motion: a comparison of\n",
            "        neuronal and psychophysical performance''',\n",
            "        'timing': {\n",
            "            'fixation': ('constant', 100),  # TODO: depends on subject\n",
            "            'stimulus': ('constant', 2000),\n",
            "            'decision': ('constant', 100)},  # XXX: not specified\n",
            "        'stimEv': 1.,\n",
            "    }\n",
            "\n",
            "    def __init__(self, dt=100, timing=None, stimEv=1.):\n",
            "        super().__init__(dt=dt, timing=timing)\n",
            "        self.choices = [1, 2]  # [left, right]\n",
            "        # cohs specifies the amount of evidence (which is modulated by stimEv)\n",
            "        self.cohs = np.array([0, 6.4, 12.8, 25.6, 51.2]) * stimEv\n",
            "        # Input noise\n",
            "        self.sigma = np.sqrt(2 * 100 * 0.01)\n",
            "        self.sigma_dt = self.sigma / np.sqrt(self.dt)\n",
            "\n",
            "        # Rewards\n",
            "        self.R_ABORTED = -0.1\n",
            "        self.R_CORRECT = +1.\n",
            "        self.R_FAIL = 0.\n",
            "        self.R_MISS = 0.\n",
            "        self.abort = False\n",
            "        # action and observation spaces\n",
            "        self.action_space = spaces.Discrete(3)\n",
            "        # observation space: [fixation cue, left stim, right stim]\n",
            "        self.observation_space = spaces.Box(-np.inf, np.inf, shape=(3,),\n",
            "                                            dtype=np.float32)\n",
            "\n",
            "    def new_trial(self, **kwargs):\n",
            "        \"\"\"\n",
            "        new_trial() is called when a trial ends to generate the next trial.\n",
            "        The following variables are created:\n",
            "            durations, which stores the duration of the different periods (in\n",
            "            the case of rdm: fixation, stimulus and decision periods)\n",
            "            ground truth: correct response for the trial\n",
            "            coh: stimulus coherence (evidence) for the trial\n",
            "            obs: observation\n",
            "        \"\"\"\n",
            "        # ---------------------------------------------------------------------\n",
            "        # Trial\n",
            "        # ---------------------------------------------------------------------\n",
            "        self.trial = {\n",
            "            'ground_truth': self.rng.choice(self.choices),\n",
            "            'coh': self.rng.choice(self.cohs),\n",
            "        }\n",
            "        self.trial.update(kwargs)\n",
            "        coh = self.trial['coh']\n",
            "        ground_truth = self.trial['ground_truth']\n",
            "        # ---------------------------------------------------------------------\n",
            "        # Epochs\n",
            "        # ---------------------------------------------------------------------\n",
            "        self.add_epoch('fixation', after=0)\n",
            "        self.add_epoch('stimulus', after='fixation')\n",
            "        self.add_epoch('decision', after='stimulus', last_epoch=True)\n",
            "        # ---------------------------------------------------------------------\n",
            "        # Observations\n",
            "        # ---------------------------------------------------------------------\n",
            "        # all observation values are 0 by default\n",
            "        # FIXATION: setting fixation cue to 1 during fixation period\n",
            "        self.set_ob('fixation', [1, 0, 0])\n",
            "        # STIMULUS\n",
            "        stimulus = self.view_ob('stimulus')  # stimulus shape = time x obs-dim\n",
            "        # setting coherences\n",
            "        stimulus[:, 1:] = (1 - coh / 100) / 2\n",
            "        stimulus[:, ground_truth] = (1 + coh / 100) / 2  # coh for correct side\n",
            "        # adding gaussian noise to stimulus with std = self.sigma_dt\n",
            "        stimulus[:, 1:] +=\\\n",
            "            np.random.randn(stimulus.shape[0], 2) * self.sigma_dt\n",
            "        # ---------------------------------------------------------------------\n",
            "        # Ground truth\n",
            "        # ---------------------------------------------------------------------\n",
            "        self.set_groundtruth('decision', ground_truth)\n",
            "\n",
            "    def _step(self, action):\n",
            "        \"\"\"\n",
            "        _step receives an action and returns:\n",
            "            a new observation, obs\n",
            "            reward associated with the action, reward\n",
            "            a boolean variable indicating whether the experiment has end, done\n",
            "            a dictionary with extra information:\n",
            "                ground truth correct response, info['gt']\n",
            "                boolean indicating the end of the trial, info['new_trial']\n",
            "        \"\"\"\n",
            "        new_trial = False\n",
            "        # rewards\n",
            "        reward = 0\n",
            "        gt = self.gt_now\n",
            "        # observations\n",
            "        if self.in_epoch('fixation'):\n",
            "            if action != 0:  # action = 0 means fixating\n",
            "                new_trial = self.abort\n",
            "                reward = self.R_ABORTED\n",
            "        elif self.in_epoch('decision'):\n",
            "            if action != 0:\n",
            "                new_trial = True\n",
            "                if action == gt:\n",
            "                    reward = self.R_CORRECT\n",
            "                else:\n",
            "                    reward = self.R_FAIL\n",
            "\n",
            "        return self.obs_now, reward, False, {'new_trial': new_trial, 'gt': gt}\n",
            "\n",
            "\n",
            "\n"
          ],
          "name": "stdout"
        }
      ]
    },
    {
      "cell_type": "markdown",
      "metadata": {
        "colab_type": "text",
        "id": "OCFMPbzX38Wj"
      },
      "source": [
        "# Example"
      ]
    },
    {
      "cell_type": "code",
      "metadata": {
        "code_folding": [],
        "colab_type": "code",
        "id": "jAxTPbzL38Wl",
        "outputId": "5bc9a908-e2fc-477b-8f15-9e81ccc21f78",
        "colab": {
          "base_uri": "https://localhost:8080/",
          "height": 955
        }
      },
      "source": [
        "import gym\n",
        "import neurogym\n",
        "from neurogym.meta import tasks_info\n",
        "from stable_baselines.common.policies import LstmPolicy\n",
        "from stable_baselines.common.vec_env import DummyVecEnv\n",
        "from stable_baselines import A2C  # ACER, PPO2\n",
        "task = 'RDM-v0'\n",
        "KWARGS = {'dt': 100, 'timing': {'fixation': ('constant', 200), 'stimulus': ('constant', 200), 'decision': ('constant', 200)}}\n",
        "\n",
        "env = gym.make('RDM-v0')\n",
        "# Optional: PPO2 requires a vectorized environment to run\n",
        "# the env is now wrapped automatically when passing it to the constructor\n",
        "env = DummyVecEnv([lambda: env])\n",
        "\n",
        "model = A2C(LstmPolicy, env, verbose=1, policy_kwargs={'feature_extraction':\"mlp\"})\n",
        "model.learn(total_timesteps=500000, log_interval=10000)\n",
        "env.close()\n",
        "\n",
        "data = tasks_info.plot_struct(task, num_steps_env=1000, n_stps_plt=200,\n",
        "                                model=model)\n",
        "\n"
      ],
      "execution_count": 0,
      "outputs": [
        {
          "output_type": "stream",
          "text": [
            "WARNING:tensorflow:\n",
            "The TensorFlow contrib module will not be included in TensorFlow 2.0.\n",
            "For more information, please see:\n",
            "  * https://github.com/tensorflow/community/blob/master/rfcs/20180907-contrib-sunset.md\n",
            "  * https://github.com/tensorflow/addons\n",
            "  * https://github.com/tensorflow/io (for I/O related ops)\n",
            "If you depend on functionality not listed there, please file an issue.\n",
            "\n",
            "WARNING:tensorflow:From /usr/local/lib/python3.6/dist-packages/stable_baselines/common/tf_util.py:58: The name tf.ConfigProto is deprecated. Please use tf.compat.v1.ConfigProto instead.\n",
            "\n",
            "WARNING:tensorflow:From /usr/local/lib/python3.6/dist-packages/stable_baselines/common/tf_util.py:67: The name tf.Session is deprecated. Please use tf.compat.v1.Session instead.\n",
            "\n",
            "WARNING:tensorflow:From /usr/local/lib/python3.6/dist-packages/stable_baselines/common/policies.py:115: The name tf.variable_scope is deprecated. Please use tf.compat.v1.variable_scope instead.\n",
            "\n",
            "WARNING:tensorflow:From /usr/local/lib/python3.6/dist-packages/stable_baselines/common/input.py:25: The name tf.placeholder is deprecated. Please use tf.compat.v1.placeholder instead.\n",
            "\n",
            "WARNING:tensorflow:From /usr/local/lib/python3.6/dist-packages/stable_baselines/common/policies.py:419: flatten (from tensorflow.python.layers.core) is deprecated and will be removed in a future version.\n",
            "Instructions for updating:\n",
            "Use keras.layers.flatten instead.\n",
            "WARNING:tensorflow:From /usr/local/lib/python3.6/dist-packages/tensorflow_core/python/layers/core.py:332: Layer.apply (from tensorflow.python.keras.engine.base_layer) is deprecated and will be removed in a future version.\n",
            "Instructions for updating:\n",
            "Please use `layer.__call__` method instead.\n",
            "WARNING:tensorflow:From /usr/local/lib/python3.6/dist-packages/stable_baselines/a2c/utils.py:156: The name tf.get_variable is deprecated. Please use tf.compat.v1.get_variable instead.\n",
            "\n",
            "WARNING:tensorflow:From /usr/local/lib/python3.6/dist-packages/stable_baselines/common/distributions.py:326: The name tf.random_uniform is deprecated. Please use tf.random.uniform instead.\n",
            "\n",
            "WARNING:tensorflow:From /usr/local/lib/python3.6/dist-packages/stable_baselines/common/distributions.py:327: The name tf.log is deprecated. Please use tf.math.log instead.\n",
            "\n",
            "WARNING:tensorflow:From /usr/local/lib/python3.6/dist-packages/stable_baselines/a2c/a2c.py:143: The name tf.summary.scalar is deprecated. Please use tf.compat.v1.summary.scalar instead.\n",
            "\n",
            "WARNING:tensorflow:From /usr/local/lib/python3.6/dist-packages/stable_baselines/common/tf_util.py:313: The name tf.get_collection is deprecated. Please use tf.compat.v1.get_collection instead.\n",
            "\n",
            "WARNING:tensorflow:From /usr/local/lib/python3.6/dist-packages/stable_baselines/common/tf_util.py:313: The name tf.GraphKeys is deprecated. Please use tf.compat.v1.GraphKeys instead.\n",
            "\n",
            "WARNING:tensorflow:From /usr/local/lib/python3.6/dist-packages/tensorflow_core/python/ops/clip_ops.py:301: where (from tensorflow.python.ops.array_ops) is deprecated and will be removed in a future version.\n",
            "Instructions for updating:\n",
            "Use tf.where in 2.0, which has the same broadcast rule as np.where\n",
            "WARNING:tensorflow:From /usr/local/lib/python3.6/dist-packages/stable_baselines/a2c/a2c.py:167: The name tf.train.RMSPropOptimizer is deprecated. Please use tf.compat.v1.train.RMSPropOptimizer instead.\n",
            "\n",
            "WARNING:tensorflow:From /usr/local/lib/python3.6/dist-packages/tensorflow_core/python/training/rmsprop.py:119: calling Ones.__init__ (from tensorflow.python.ops.init_ops) with dtype is deprecated and will be removed in a future version.\n",
            "Instructions for updating:\n",
            "Call initializer instance with the dtype argument instead of passing it to the constructor\n",
            "WARNING:tensorflow:From /usr/local/lib/python3.6/dist-packages/stable_baselines/a2c/a2c.py:177: The name tf.global_variables_initializer is deprecated. Please use tf.compat.v1.global_variables_initializer instead.\n",
            "\n",
            "WARNING:tensorflow:From /usr/local/lib/python3.6/dist-packages/stable_baselines/a2c/a2c.py:179: The name tf.summary.merge_all is deprecated. Please use tf.compat.v1.summary.merge_all instead.\n",
            "\n",
            "----------------------------------\n",
            "| explained_variance | -1.01e+03 |\n",
            "| fps                | 2         |\n",
            "| nupdates           | 1         |\n",
            "| policy_entropy     | 1.1       |\n",
            "| total_timesteps    | 5         |\n",
            "| value_loss         | 0.000641  |\n",
            "----------------------------------\n"
          ],
          "name": "stdout"
        }
      ]
    }
  ]
}