{
 "cells": [
  {
   "cell_type": "markdown",
   "metadata": {
    "colab_type": "text",
    "id": "view-in-github"
   },
   "source": [
    "<a href=\"https://colab.research.google.com/github/gyyang/neurogym/blob/master/neurogym/examples/example_NeuroGym_stable_baselines.ipynb\" target=\"_parent\"><img src=\"https://colab.research.google.com/assets/colab-badge.svg\" alt=\"Open In Colab\"/></a>"
   ]
  },
  {
   "cell_type": "markdown",
   "metadata": {
    "colab_type": "text",
    "id": "4zW6CU8F69Zp"
   },
   "source": [
    "# NeuroGym"
   ]
  },
  {
   "cell_type": "markdown",
   "metadata": {
    "colab_type": "text",
    "id": "xIE7qx_a7D0e"
   },
   "source": [
    "NeuroGym is a comprehensive toolkit that allows training any network model on many established neuroscience tasks using Reinforcement Learning techniques. It includes working memory tasks, value-based decision tasks and context-dependent perceptual categorization tasks.\n",
    "\n",
    "In this notebook we first show how to install the relevant toolbox. \n",
    "\n",
    "We then show how to access the available tasks and their relevant information.\n",
    "\n",
    "Finally we train an LSTM network on the Random Dots Motion task using standard supervised learning techniques (with Keras), and plot the results."
   ]
  },
  {
   "cell_type": "code",
   "execution_count": null,
   "metadata": {
    "colab": {},
    "colab_type": "code",
    "id": "Mp-K8wKGtBoE"
   },
   "outputs": [],
   "source": [
    "%tensorflow_version 1.x"
   ]
  },
  {
   "cell_type": "markdown",
   "metadata": {
    "colab_type": "text",
    "id": "DS1FhYPG38WO"
   },
   "source": [
    "# Install Gym and NeuroGym"
   ]
  },
  {
   "cell_type": "code",
   "execution_count": null,
   "metadata": {
    "colab": {
     "base_uri": "https://localhost:8080/",
     "height": 0
    },
    "colab_type": "code",
    "id": "Q-4MfhnP4AgL",
    "outputId": "695b871e-4724-47b6-ebbf-d16ac3760e58"
   },
   "outputs": [],
   "source": [
    "! pip install gym"
   ]
  },
  {
   "cell_type": "markdown",
   "metadata": {
    "colab_type": "text",
    "id": "ZNM3oKRhtD24"
   },
   "source": [
    "# Install NeuroGym"
   ]
  },
  {
   "cell_type": "code",
   "execution_count": null,
   "metadata": {
    "colab": {
     "base_uri": "https://localhost:8080/",
     "height": 0
    },
    "colab_type": "code",
    "id": "UkKpnRc53FIN",
    "outputId": "028709bd-67f6-4596-9a43-21317289356d"
   },
   "outputs": [],
   "source": [
    "! git clone https://github.com/gyyang/neurogym.git"
   ]
  },
  {
   "cell_type": "code",
   "execution_count": null,
   "metadata": {
    "colab": {
     "base_uri": "https://localhost:8080/",
     "height": 0
    },
    "colab_type": "code",
    "id": "1B-_H3eAqpzr",
    "outputId": "f9fe55f5-a6b3-47b2-8428-a2b66963d005"
   },
   "outputs": [],
   "source": [
    "cd neurogym"
   ]
  },
  {
   "cell_type": "code",
   "execution_count": null,
   "metadata": {
    "colab": {
     "base_uri": "https://localhost:8080/",
     "height": 0
    },
    "colab_type": "code",
    "id": "odHIweJ7qpzw",
    "outputId": "a72549ef-c085-4cf0-b442-57d450aeaa3b"
   },
   "outputs": [],
   "source": [
    "pip install -e ."
   ]
  },
  {
   "cell_type": "markdown",
   "metadata": {
    "colab_type": "text",
    "id": "9n3jc7Qm0zxO"
   },
   "source": [
    "# Access tasks and wrappers info"
   ]
  },
  {
   "cell_type": "code",
   "execution_count": null,
   "metadata": {
    "colab": {
     "base_uri": "https://localhost:8080/",
     "height": 34
    },
    "colab_type": "code",
    "id": "qq0uJt-MkucS",
    "outputId": "33fd6a1a-cb83-4703-d798-da6a78450aba"
   },
   "outputs": [],
   "source": [
    "cd /content/neurogym/"
   ]
  },
  {
   "cell_type": "code",
   "execution_count": null,
   "metadata": {
    "colab": {},
    "colab_type": "code",
    "id": "yt0kP1zE0pSx"
   },
   "outputs": [],
   "source": [
    "from neurogym.meta import tasks_info"
   ]
  },
  {
   "cell_type": "markdown",
   "metadata": {
    "heading_collapsed": true
   },
   "source": [
    "### Get list of available tasks"
   ]
  },
  {
   "cell_type": "code",
   "execution_count": null,
   "metadata": {
    "colab": {
     "base_uri": "https://localhost:8080/",
     "height": 544
    },
    "colab_type": "code",
    "hidden": true,
    "id": "TANiVUtr0tO3",
    "outputId": "6f765fe9-0911-429a-9873-d551bd252576"
   },
   "outputs": [],
   "source": [
    "tasks_info.info()"
   ]
  },
  {
   "cell_type": "markdown",
   "metadata": {},
   "source": [
    "### Get information about specific task"
   ]
  },
  {
   "cell_type": "code",
   "execution_count": null,
   "metadata": {
    "colab": {
     "base_uri": "https://localhost:8080/",
     "height": 1000
    },
    "colab_type": "code",
    "id": "RaH9CcJdHY5G",
    "outputId": "69bd9789-5a51-45a4-adb8-b547b160993e",
    "scrolled": false
   },
   "outputs": [],
   "source": [
    "tasks_info.info('RDM-v0', show_code=True, show_fig=True)"
   ]
  },
  {
   "cell_type": "markdown",
   "metadata": {
    "heading_collapsed": true
   },
   "source": [
    "### Get list of available wrappers"
   ]
  },
  {
   "cell_type": "code",
   "execution_count": null,
   "metadata": {
    "colab": {
     "base_uri": "https://localhost:8080/",
     "height": 272
    },
    "colab_type": "code",
    "hidden": true,
    "id": "Ro9QOEirQetw",
    "outputId": "9b2e251c-a69d-40c5-e193-1ec38b2fcffa",
    "scrolled": true
   },
   "outputs": [],
   "source": [
    "tasks_info.info_wrapper()"
   ]
  },
  {
   "cell_type": "markdown",
   "metadata": {
    "heading_collapsed": true
   },
   "source": [
    "### Get information about specific wrapper"
   ]
  },
  {
   "cell_type": "code",
   "execution_count": null,
   "metadata": {
    "colab": {
     "base_uri": "https://localhost:8080/",
     "height": 1000
    },
    "colab_type": "code",
    "hidden": true,
    "id": "X927be5RQqhd",
    "outputId": "2714be1b-9fe3-4ed9-813d-c4f1dfdd8f72"
   },
   "outputs": [],
   "source": [
    "tasks_info.info_wrapper('Monitor-v0', show_code=True)"
   ]
  },
  {
   "cell_type": "code",
   "execution_count": null,
   "metadata": {
    "colab": {
     "base_uri": "https://localhost:8080/",
     "height": 357
    },
    "colab_type": "code",
    "hidden": true,
    "id": "LCu5mcAtSdQ6",
    "outputId": "f228040b-e6a1-4ea1-e960-52788b2c7c8e"
   },
   "outputs": [],
   "source": [
    "tasks_info.info_wrapper('TrialHistory-v0')"
   ]
  },
  {
   "cell_type": "markdown",
   "metadata": {
    "colab_type": "text",
    "id": "OCFMPbzX38Wj"
   },
   "source": [
    "# Example"
   ]
  },
  {
   "cell_type": "code",
   "execution_count": 1,
   "metadata": {
    "code_folding": [],
    "colab": {
     "base_uri": "https://localhost:8080/",
     "height": 1000
    },
    "colab_type": "code",
    "id": "jAxTPbzL38Wl",
    "outputId": "bdc1ad3f-224b-41e0-858f-6fbfea01473e"
   },
   "outputs": [
    {
     "name": "stderr",
     "output_type": "stream",
     "text": [
      "/home/molano/anaconda3/lib/python3.7/site-packages/tensorflow/python/framework/dtypes.py:526: FutureWarning: Passing (type, 1) or '1type' as a synonym of type is deprecated; in a future version of numpy, it will be understood as (type, (1,)) / '(1,)type'.\n",
      "  _np_qint8 = np.dtype([(\"qint8\", np.int8, 1)])\n",
      "/home/molano/anaconda3/lib/python3.7/site-packages/tensorflow/python/framework/dtypes.py:527: FutureWarning: Passing (type, 1) or '1type' as a synonym of type is deprecated; in a future version of numpy, it will be understood as (type, (1,)) / '(1,)type'.\n",
      "  _np_quint8 = np.dtype([(\"quint8\", np.uint8, 1)])\n",
      "/home/molano/anaconda3/lib/python3.7/site-packages/tensorflow/python/framework/dtypes.py:528: FutureWarning: Passing (type, 1) or '1type' as a synonym of type is deprecated; in a future version of numpy, it will be understood as (type, (1,)) / '(1,)type'.\n",
      "  _np_qint16 = np.dtype([(\"qint16\", np.int16, 1)])\n",
      "/home/molano/anaconda3/lib/python3.7/site-packages/tensorflow/python/framework/dtypes.py:529: FutureWarning: Passing (type, 1) or '1type' as a synonym of type is deprecated; in a future version of numpy, it will be understood as (type, (1,)) / '(1,)type'.\n",
      "  _np_quint16 = np.dtype([(\"quint16\", np.uint16, 1)])\n",
      "/home/molano/anaconda3/lib/python3.7/site-packages/tensorflow/python/framework/dtypes.py:530: FutureWarning: Passing (type, 1) or '1type' as a synonym of type is deprecated; in a future version of numpy, it will be understood as (type, (1,)) / '(1,)type'.\n",
      "  _np_qint32 = np.dtype([(\"qint32\", np.int32, 1)])\n",
      "/home/molano/anaconda3/lib/python3.7/site-packages/tensorflow/python/framework/dtypes.py:535: FutureWarning: Passing (type, 1) or '1type' as a synonym of type is deprecated; in a future version of numpy, it will be understood as (type, (1,)) / '(1,)type'.\n",
      "  np_resource = np.dtype([(\"resource\", np.ubyte, 1)])\n"
     ]
    },
    {
     "name": "stdout",
     "output_type": "stream",
     "text": [
      "WARNING:tensorflow:From /home/molano/anaconda3/lib/python3.7/site-packages/tensorflow/python/ops/resource_variable_ops.py:435: colocate_with (from tensorflow.python.framework.ops) is deprecated and will be removed in a future version.\n",
      "Instructions for updating:\n",
      "Colocations handled automatically by placer.\n",
      "_________________________________________________________________\n",
      "Layer (type)                 Output Shape              Param #   \n",
      "=================================================================\n",
      "input_1 (InputLayer)         (None, 20, 3)             0         \n",
      "_________________________________________________________________\n",
      "lstm (LSTM)                  (None, 20, 256)           266240    \n",
      "_________________________________________________________________\n",
      "time_distributed (TimeDistri (None, 20, 3)             771       \n",
      "=================================================================\n",
      "Total params: 267,011\n",
      "Trainable params: 267,011\n",
      "Non-trainable params: 0\n",
      "_________________________________________________________________\n",
      "WARNING:tensorflow:From /home/molano/anaconda3/lib/python3.7/site-packages/tensorflow/python/ops/math_ops.py:3066: to_int32 (from tensorflow.python.ops.math_ops) is deprecated and will be removed in a future version.\n",
      "Instructions for updating:\n",
      "Use tf.cast instead.\n",
      "Accuracy:  0.6666667\n",
      "Performance:  0.0\n",
      "epoch 0 out of 100\n",
      "remaining time: 0.05\n",
      "-------------\n"
     ]
    },
    {
     "data": {
      "text/plain": [
       "<Figure size 640x480 with 3 Axes>"
      ]
     },
     "metadata": {},
     "output_type": "display_data"
    }
   ],
   "source": [
    "from neurogym.examples import example_NeuroGym_keras as exK\n",
    "# ARGS\n",
    "task = 'RDM-v0'\n",
    "num_trials = 100000\n",
    "rollout = 20\n",
    "dt = 100\n",
    "kwargs = {'dt': 100, 'timing': {'fixation': ('constant', 200),\n",
    "                                'stimulus': ('constant', 200),\n",
    "                                'decision': ('constant', 200)}}\n",
    "\n",
    "model = exK.train_env_keras_net(task, kwargs=kwargs,\n",
    "                                rollout=rollout, num_tr=num_trials,\n",
    "                                num_h=256, b_size=128,\n",
    "                                tr_per_ep=1000, verbose=1)\n"
   ]
  },
  {
   "cell_type": "markdown",
   "metadata": {
    "colab_type": "text",
    "id": "svUQlptJAVv9"
   },
   "source": [
    "# Visualize results"
   ]
  },
  {
   "cell_type": "code",
   "execution_count": null,
   "metadata": {
    "colab": {
     "base_uri": "https://localhost:8080/",
     "height": 585
    },
    "colab_type": "code",
    "id": "qPrh-kiI8rbB",
    "outputId": "df91fecd-c1b6-43e3-a494-469361d9352f"
   },
   "outputs": [],
   "source": [
    "data = tasks_info.plot_struct(env, num_steps_env=10000, n_stps_plt=200,\n",
    "                                model=model)\n"
   ]
  }
 ],
 "metadata": {
  "accelerator": "GPU",
  "colab": {
   "collapsed_sections": [
    "4zW6CU8F69Zp",
    "DS1FhYPG38WO",
    "ZNM3oKRhtD24"
   ],
   "include_colab_link": true,
   "name": "example_NeuroGym_stable_baselines.ipynb",
   "provenance": []
  },
  "hide_input": false,
  "kernelspec": {
   "display_name": "Python 3",
   "language": "python",
   "name": "python3"
  },
  "language_info": {
   "codemirror_mode": {
    "name": "ipython",
    "version": 3
   },
   "file_extension": ".py",
   "mimetype": "text/x-python",
   "name": "python",
   "nbconvert_exporter": "python",
   "pygments_lexer": "ipython3",
   "version": "3.7.4"
  },
  "toc": {
   "base_numbering": 1,
   "nav_menu": {},
   "number_sections": true,
   "sideBar": true,
   "skip_h1_title": false,
   "title_cell": "Table of Contents",
   "title_sidebar": "Contents",
   "toc_cell": false,
   "toc_position": {},
   "toc_section_display": true,
   "toc_window_display": false
  },
  "varInspector": {
   "cols": {
    "lenName": 16,
    "lenType": 16,
    "lenVar": 40
   },
   "kernels_config": {
    "python": {
     "delete_cmd_postfix": "",
     "delete_cmd_prefix": "del ",
     "library": "var_list.py",
     "varRefreshCmd": "print(var_dic_list())"
    },
    "r": {
     "delete_cmd_postfix": ") ",
     "delete_cmd_prefix": "rm(",
     "library": "var_list.r",
     "varRefreshCmd": "cat(var_dic_list()) "
    }
   },
   "types_to_exclude": [
    "module",
    "function",
    "builtin_function_or_method",
    "instance",
    "_Feature"
   ],
   "window_display": false
  }
 },
 "nbformat": 4,
 "nbformat_minor": 1
}
